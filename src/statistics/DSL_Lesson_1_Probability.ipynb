{
  "nbformat": 4,
  "nbformat_minor": 0,
  "metadata": {
    "colab": {
      "name": "DSL Lesson 1: Probability",
      "provenance": [],
      "collapsed_sections": [],
      "include_colab_link": true
    },
    "kernelspec": {
      "name": "python3",
      "display_name": "Python 3"
    }
  },
  "cells": [
    {
      "cell_type": "markdown",
      "metadata": {
        "id": "view-in-github",
        "colab_type": "text"
      },
      "source": [
        "<a href=\"https://colab.research.google.com/github/majidshaik/Data-Science-Learning/blob/master/src/statistics/DSL_Lesson_1_Probability.ipynb\" target=\"_parent\"><img src=\"https://colab.research.google.com/assets/colab-badge.svg\" alt=\"Open In Colab\"/></a>"
      ]
    },
    {
      "cell_type": "markdown",
      "metadata": {
        "id": "7BEidQRTb-Z1",
        "colab_type": "text"
      },
      "source": [
        "## **Probability of Multiple Events Occuring**\n",
        "**Independent Events**\n",
        "\n",
        "> Event A : Man [probability = 50%]   \n",
        "Event B : Elderly [probability = 25%]\n",
        "\n",
        "Probability of A and B =  P(A and B) = P(A) * P(B) \n",
        "* .5 * .25 = 0.125 = 12.5%\n",
        "\n",
        "Probability of A or B = P(A or B) = P(A) + P(B) - P(A and B)\n",
        "* .5 + .25 - .125 = .625 = 62.5%\n",
        "\n",
        "\n",
        "\n",
        "**Conditional Events**  \n",
        "If we can guarantee event B occurrs, then the probability \"A given B\" is the same as assuming they both occur simultaneously relative to the probability of B:  \n",
        "> Probability of the person being a Man, given that we know they are Elderly:  \n",
        "\n",
        "![alt text](https://drive.google.com/uc?id=1qL1uORHTUxf8CdrhXpLcdRzl_hh0t5_1)\n",
        "\n",
        "**Conditional Events - *Bayesian Method***   \n",
        "In some situations, we are missing the necessary data... such as P(B), without which you couldn't solve the above equation...\n",
        "\n",
        "Bayes discovered the following:\n",
        "P(B) \\* P(A|B) = P(A) \\* P(B|A)\n",
        "\n",
        "So, the probability of A given B =  \n",
        "![P(A|B)](https://drive.google.com/uc?id=1XoQbr1qAkdd-VdxONCh2hAef1n-jFNjC)  \n",
        "\n",
        "\n",
        "A derived form of the equation allows us to solve the probability without ever having P(B):\n",
        "![P(A|B)](https://drive.google.com/uc?id=1D_GNKcdDA8tuaA1pd1EHA-fkPLZxJHt0)  \n",
        "(Where the A^c is the complement of A)  \n",
        "P(A^c) = 1 - P(A)\n",
        "\n",
        "## **Real-World Example**\n",
        "\n",
        "\n",
        "> **Molecular diagnostic test for cancer**  \n",
        "* P(C) = Patient has cancer  \n",
        "* P(Tp) = Patient tests positive for cancer    \n",
        "\n",
        "![Diagnostic Test](https://drive.google.com/uc?id=1aLKjwweXnKmrjHKbVWgn02Vi4YOBzdok)  \n",
        "> *What percentage of patients with cancer test positive?*  \n",
        "**Sensitivity** = A/Td = 95% \n",
        "\n",
        "> *What percentage of patients who test positive actually have cancer?*  \n",
        "**Positive Predictive Value (PPV)** = A/Tp = 90%  \n",
        "  \n",
        ">  *What percentage of the population tested actually has cancer?*  \n",
        "**Prevalence** = Td/Total = 9.4%\n",
        "\n",
        "### **Q:**  *If someone tests positive, what is the probability the test is correct and they actually have cancer?*   \n",
        "![alt text](https://drive.google.com/uc?id=1nUGn9iR48esiQKs6jn4DoTN1b8HQ94Gj)    \n",
        "\n",
        "![Bayesian Example](https://drive.google.com/uc?id=1ptv2MZrxnPLrYNY9o04grgm_5AON211s)  \n",
        "We know how many people in the target population have cancer (Prevalence = 9.4%), but we the manufacturer didn't explicitly report how frequently the test comes out positive... So we have to use the second Bayesian formula:  \n",
        "![alt text](https://drive.google.com/uc?id=1bbNjGhx6ozKSJLqil_YlQggA6DYGKeiL) \n",
        "\n",
        "### **A:**  *There's a 49.6% chance the person actually has cancer if they tested positive, so follow-up assessment is recommended.*  \n",
        "\n",
        "\n",
        "\n",
        "\n"
      ]
    },
    {
      "cell_type": "markdown",
      "metadata": {
        "id": "87Pc0G6Qn22g",
        "colab_type": "text"
      },
      "source": [
        "# **Coding Challenge:** *Conditional Probability*\n",
        "\n",
        "**Real Estate Development**\n",
        "> You're a real estate appraiser in Germantown, TN (a suburb of Memphis), and are trying to determine whether or not swimming pools should be considered in your valuation of single-family homes.  You know that two of the most important metrics of real estate value-add are:  \n",
        "*   Days on Market (DOM)\n",
        "*   Selling Above Average (measured in Price per SqFt)  \n",
        "\n",
        "> You have the data in CSV format of all real estate sales in Germantown since 2006.  \n",
        "\n",
        "\n",
        "**Q:** *Given the property has a pool, what is the probability it will sell faster than average and above market rate (\\$/sqft)?*\n"
      ]
    },
    {
      "cell_type": "markdown",
      "metadata": {
        "id": "Jp9LcolmtoTQ",
        "colab_type": "text"
      },
      "source": [
        "First of all, let's load up the dataset and check it out."
      ]
    },
    {
      "cell_type": "code",
      "metadata": {
        "id": "U7oZt54vtvej",
        "colab_type": "code",
        "colab": {
          "resources": {
            "http://localhost:8080/nbextensions/google.colab/files.js": {
              "data": "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",
              "ok": true,
              "headers": [
                [
                  "content-type",
                  "application/javascript"
                ]
              ],
              "status": 200,
              "status_text": ""
            }
          },
          "base_uri": "https://localhost:8080/",
          "height": 74
        },
        "outputId": "7533b7f5-63e9-4067-a76d-f13b8e7739ff"
      },
      "source": [
        "from google.colab import files\n",
        "uploaded = files.upload()"
      ],
      "execution_count": null,
      "outputs": [
        {
          "output_type": "display_data",
          "data": {
            "text/html": [
              "\n",
              "     <input type=\"file\" id=\"files-317f9143-b632-4d9e-beb3-94b44aae8e87\" name=\"files[]\" multiple disabled />\n",
              "     <output id=\"result-317f9143-b632-4d9e-beb3-94b44aae8e87\">\n",
              "      Upload widget is only available when the cell has been executed in the\n",
              "      current browser session. Please rerun this cell to enable.\n",
              "      </output>\n",
              "      <script src=\"/nbextensions/google.colab/files.js\"></script> "
            ],
            "text/plain": [
              "<IPython.core.display.HTML object>"
            ]
          },
          "metadata": {
            "tags": []
          }
        },
        {
          "output_type": "stream",
          "text": [
            "Saving Germantown Sales.csv to Germantown Sales.csv\n"
          ],
          "name": "stdout"
        }
      ]
    },
    {
      "cell_type": "code",
      "metadata": {
        "id": "WCgepFtctzaJ",
        "colab_type": "code",
        "colab": {}
      },
      "source": [
        "import pandas as pd\n",
        "import io\n",
        "real_estate_sales = pd.read_csv(io.BytesIO(uploaded['Germantown Sales.csv']))\n",
        "# Dataset is now stored in a Pandas Dataframe"
      ],
      "execution_count": null,
      "outputs": []
    },
    {
      "cell_type": "code",
      "metadata": {
        "id": "tL2v0-qDuOWp",
        "colab_type": "code",
        "colab": {
          "base_uri": "https://localhost:8080/",
          "height": 462
        },
        "outputId": "30835fab-8877-4547-bc2e-747d9eb8eea7"
      },
      "source": [
        "real_estate_sales.head()"
      ],
      "execution_count": null,
      "outputs": [
        {
          "output_type": "execute_result",
          "data": {
            "text/html": [
              "<div>\n",
              "<style scoped>\n",
              "    .dataframe tbody tr th:only-of-type {\n",
              "        vertical-align: middle;\n",
              "    }\n",
              "\n",
              "    .dataframe tbody tr th {\n",
              "        vertical-align: top;\n",
              "    }\n",
              "\n",
              "    .dataframe thead th {\n",
              "        text-align: right;\n",
              "    }\n",
              "</style>\n",
              "<table border=\"1\" class=\"dataframe\">\n",
              "  <thead>\n",
              "    <tr style=\"text-align: right;\">\n",
              "      <th></th>\n",
              "      <th>MLS #</th>\n",
              "      <th>Pics</th>\n",
              "      <th>Status</th>\n",
              "      <th>Area</th>\n",
              "      <th>Address</th>\n",
              "      <th>City</th>\n",
              "      <th>Zip</th>\n",
              "      <th>Unit #</th>\n",
              "      <th>ListPrice</th>\n",
              "      <th>SalePrice</th>\n",
              "      <th>List Agent - Agent Name</th>\n",
              "      <th>List Office - Office Code</th>\n",
              "      <th>Sold Square Feet</th>\n",
              "      <th>Sale Price Per SqFt</th>\n",
              "      <th>List Price Per SqFt</th>\n",
              "      <th>Bedrooms</th>\n",
              "      <th>TotalBaths</th>\n",
              "      <th># of Stories</th>\n",
              "      <th>Parking Display</th>\n",
              "      <th>DOM</th>\n",
              "      <th>MLS Map #</th>\n",
              "      <th>MAARSubDiv</th>\n",
              "      <th>Listing Date</th>\n",
              "      <th>Acreage</th>\n",
              "      <th>Carport/Garage</th>\n",
              "      <th>Pool Description</th>\n",
              "      <th>Condo</th>\n",
              "      <th>Condominium Name</th>\n",
              "      <th>Allow Internet Display</th>\n",
              "    </tr>\n",
              "  </thead>\n",
              "  <tbody>\n",
              "    <tr>\n",
              "      <th>0</th>\n",
              "      <td>3256083</td>\n",
              "      <td>//cdnparap110.paragonrels.com/ParagonImages/Pr...</td>\n",
              "      <td>CLOSD</td>\n",
              "      <td>862A</td>\n",
              "      <td>1927 AUTOBAHN DRIVE</td>\n",
              "      <td>Germantown</td>\n",
              "      <td>38139</td>\n",
              "      <td>1927.0</td>\n",
              "      <td>$66,900</td>\n",
              "      <td>$60,000</td>\n",
              "      <td>Jeff Burress</td>\n",
              "      <td>CRLI23</td>\n",
              "      <td>1768</td>\n",
              "      <td>33.0</td>\n",
              "      <td>NaN</td>\n",
              "      <td>3</td>\n",
              "      <td>2.1</td>\n",
              "      <td>2.0</td>\n",
              "      <td>G2A</td>\n",
              "      <td>79</td>\n",
              "      <td>Germantown/Central</td>\n",
              "      <td>FARMINGTON GLEN CONDOMINIUMS</td>\n",
              "      <td>9/12/2012</td>\n",
              "      <td>NaN</td>\n",
              "      <td>Garage</td>\n",
              "      <td>In Ground</td>\n",
              "      <td>Yes</td>\n",
              "      <td>FARMINGTON GLEN COND</td>\n",
              "      <td>Yes</td>\n",
              "    </tr>\n",
              "    <tr>\n",
              "      <th>1</th>\n",
              "      <td>3209035</td>\n",
              "      <td>//cdnparap110.paragonrels.com/ParagonImages/Pr...</td>\n",
              "      <td>CLOSD</td>\n",
              "      <td>862A</td>\n",
              "      <td>8446 FARMINGTON BOULEVARD</td>\n",
              "      <td>Germantown</td>\n",
              "      <td>38139</td>\n",
              "      <td>27.0</td>\n",
              "      <td>$114,900</td>\n",
              "      <td>$68,250</td>\n",
              "      <td>Robert L Vaughn</td>\n",
              "      <td>CART</td>\n",
              "      <td>1659</td>\n",
              "      <td>41.0</td>\n",
              "      <td>NaN</td>\n",
              "      <td>3</td>\n",
              "      <td>2.1</td>\n",
              "      <td>2.0</td>\n",
              "      <td>G2D</td>\n",
              "      <td>52</td>\n",
              "      <td>Germantown/Central</td>\n",
              "      <td>FARMINGTON GLEN CONDOMINIUMS</td>\n",
              "      <td>9/14/2010</td>\n",
              "      <td>NaN</td>\n",
              "      <td>Garage</td>\n",
              "      <td>None</td>\n",
              "      <td>Yes</td>\n",
              "      <td>Farmington Glen</td>\n",
              "      <td>Yes</td>\n",
              "    </tr>\n",
              "    <tr>\n",
              "      <th>2</th>\n",
              "      <td>3215785</td>\n",
              "      <td>//cdnparap110.paragonrels.com/ParagonImages/Pr...</td>\n",
              "      <td>CLOSD</td>\n",
              "      <td>862A</td>\n",
              "      <td>8493 ROTHCHILD ROAD</td>\n",
              "      <td>Germantown</td>\n",
              "      <td>38139</td>\n",
              "      <td>59.0</td>\n",
              "      <td>$82,600</td>\n",
              "      <td>$70,000</td>\n",
              "      <td>Gerry A Peak</td>\n",
              "      <td>KELL</td>\n",
              "      <td>1465</td>\n",
              "      <td>47.0</td>\n",
              "      <td>NaN</td>\n",
              "      <td>2</td>\n",
              "      <td>1.1</td>\n",
              "      <td>2.0</td>\n",
              "      <td>G2D</td>\n",
              "      <td>621</td>\n",
              "      <td>Germantown/Central</td>\n",
              "      <td>FARMINGTON GLEN CONDOMINIUMS</td>\n",
              "      <td>1/21/2011</td>\n",
              "      <td>NaN</td>\n",
              "      <td>Garage</td>\n",
              "      <td>In Ground</td>\n",
              "      <td>Yes</td>\n",
              "      <td>Farmington Glen</td>\n",
              "      <td>Yes</td>\n",
              "    </tr>\n",
              "    <tr>\n",
              "      <th>3</th>\n",
              "      <td>3219719</td>\n",
              "      <td>//cdnparap110.paragonrels.com/ParagonImages/Pr...</td>\n",
              "      <td>CLOSD</td>\n",
              "      <td>862A</td>\n",
              "      <td>8440 FARMINGTON BOULEVARD</td>\n",
              "      <td>Germantown</td>\n",
              "      <td>38139</td>\n",
              "      <td>25.0</td>\n",
              "      <td>$82,013</td>\n",
              "      <td>$73,500</td>\n",
              "      <td>Barbara E Conway</td>\n",
              "      <td>PTYN</td>\n",
              "      <td>1740</td>\n",
              "      <td>42.0</td>\n",
              "      <td>NaN</td>\n",
              "      <td>3</td>\n",
              "      <td>2.1</td>\n",
              "      <td>2.0</td>\n",
              "      <td>G2D</td>\n",
              "      <td>84</td>\n",
              "      <td>Germantown/Central</td>\n",
              "      <td>FARMINGTON GLEN CONDOMINIUMS</td>\n",
              "      <td>3/21/2011</td>\n",
              "      <td>NaN</td>\n",
              "      <td>Garage</td>\n",
              "      <td>In Ground</td>\n",
              "      <td>Yes</td>\n",
              "      <td>Farmington Glen</td>\n",
              "      <td>Yes</td>\n",
              "    </tr>\n",
              "    <tr>\n",
              "      <th>4</th>\n",
              "      <td>3208934</td>\n",
              "      <td>//cdnparap110.paragonrels.com/ParagonImages/Pr...</td>\n",
              "      <td>CLOSD</td>\n",
              "      <td>862A</td>\n",
              "      <td>8532 FARMINGTON BOULEVARD</td>\n",
              "      <td>Germantown</td>\n",
              "      <td>38139</td>\n",
              "      <td>NaN</td>\n",
              "      <td>$109,900</td>\n",
              "      <td>$85,500</td>\n",
              "      <td>Jeff Burress</td>\n",
              "      <td>CRLI23</td>\n",
              "      <td>1300</td>\n",
              "      <td>65.0</td>\n",
              "      <td>NaN</td>\n",
              "      <td>2</td>\n",
              "      <td>2.1</td>\n",
              "      <td>2.0</td>\n",
              "      <td>0</td>\n",
              "      <td>195</td>\n",
              "      <td>Germantown/Central</td>\n",
              "      <td>FARMINGTON BOULEVARD TOWNHOUSE</td>\n",
              "      <td>9/22/2010</td>\n",
              "      <td>NaN</td>\n",
              "      <td>NaN</td>\n",
              "      <td>None</td>\n",
              "      <td>Yes</td>\n",
              "      <td>Farmington Boulevard</td>\n",
              "      <td>Yes</td>\n",
              "    </tr>\n",
              "  </tbody>\n",
              "</table>\n",
              "</div>"
            ],
            "text/plain": [
              "     MLS #  ... Allow Internet Display\n",
              "0  3256083  ...                    Yes\n",
              "1  3209035  ...                    Yes\n",
              "2  3215785  ...                    Yes\n",
              "3  3219719  ...                    Yes\n",
              "4  3208934  ...                    Yes\n",
              "\n",
              "[5 rows x 29 columns]"
            ]
          },
          "metadata": {
            "tags": []
          },
          "execution_count": 3
        }
      ]
    },
    {
      "cell_type": "markdown",
      "metadata": {
        "id": "U0yU9bXtud1J",
        "colab_type": "text"
      },
      "source": [
        "Ok so first of all, I see can use the following columns:\n",
        "\n",
        "* DOM\n",
        "* Pool Description\n",
        "* Sale Price per SqFt\n",
        "\n",
        "Also because we want to remove condominiums, I'll filter by the \"Condo\" column...\n",
        "\n",
        "Let's filter by condo and then find out the average DOM, and the average \\$/sqft:\n",
        "\n"
      ]
    },
    {
      "cell_type": "code",
      "metadata": {
        "id": "q9MnIyvcvPhj",
        "colab_type": "code",
        "colab": {}
      },
      "source": [
        "real_estate_sales = real_estate_sales[real_estate_sales['Condo']=='No']"
      ],
      "execution_count": null,
      "outputs": []
    },
    {
      "cell_type": "markdown",
      "metadata": {
        "id": "JFGY0EZiwR7V",
        "colab_type": "text"
      },
      "source": [
        "Ok here we've removed condos.  Let's confirm that's true:"
      ]
    },
    {
      "cell_type": "code",
      "metadata": {
        "id": "JNkqXAdZwW2i",
        "colab_type": "code",
        "colab": {
          "base_uri": "https://localhost:8080/",
          "height": 34
        },
        "outputId": "d9e5f019-88e4-4079-ee5b-5e8a569c3375"
      },
      "source": [
        "print(real_estate_sales[real_estate_sales['Condo']=='Yes'].size)"
      ],
      "execution_count": null,
      "outputs": [
        {
          "output_type": "stream",
          "text": [
            "0\n"
          ],
          "name": "stdout"
        }
      ]
    },
    {
      "cell_type": "code",
      "metadata": {
        "id": "UhaXSAInvfso",
        "colab_type": "code",
        "colab": {
          "base_uri": "https://localhost:8080/",
          "height": 34
        },
        "outputId": "76343cde-d42f-4f31-a519-fad604ffeb81"
      },
      "source": [
        "avg_days = real_estate_sales['DOM'].mean()\n",
        "print(f\"The average time to sell a house: {round(avg_days,1)} days.\")"
      ],
      "execution_count": null,
      "outputs": [
        {
          "output_type": "stream",
          "text": [
            "The average time to sell a house: 70.0 days.\n"
          ],
          "name": "stdout"
        }
      ]
    },
    {
      "cell_type": "code",
      "metadata": {
        "id": "82JJ9T9evzKO",
        "colab_type": "code",
        "colab": {
          "base_uri": "https://localhost:8080/",
          "height": 34
        },
        "outputId": "6aab07e0-f139-40c2-caa2-59cfed0dc1e4"
      },
      "source": [
        "avg_price = real_estate_sales['Sale Price Per SqFt'].mean()\n",
        "print(f\"The average $/sqft of a house in this region: ${round(avg_price,2)}.\")"
      ],
      "execution_count": null,
      "outputs": [
        {
          "output_type": "stream",
          "text": [
            "The average $/sqft of a house in this region: $101.32.\n"
          ],
          "name": "stdout"
        }
      ]
    },
    {
      "cell_type": "markdown",
      "metadata": {
        "id": "ufz5FBL-yS3o",
        "colab_type": "text"
      },
      "source": [
        "Great! So now that we have the avg. price and avg. days on the market, let's see if there's any possible effect of having a pool:"
      ]
    },
    {
      "cell_type": "code",
      "metadata": {
        "id": "6RSsz8T5xmgf",
        "colab_type": "code",
        "colab": {}
      },
      "source": [
        "# We're going to treat this as a binary inquiry (Ex. \"Price above avg? (Y/N)\").\n",
        "\n",
        "def price_check(row):\n",
        "  if row['Sale Price Per SqFt'] > avg_price:\n",
        "    return 1\n",
        "  else:\n",
        "    return 0\n",
        "\n",
        "real_estate_sales['above_avg_price'] = real_estate_sales.apply(price_check,axis='columns')"
      ],
      "execution_count": null,
      "outputs": []
    },
    {
      "cell_type": "code",
      "metadata": {
        "id": "NP9a9PfN0-BN",
        "colab_type": "code",
        "colab": {
          "base_uri": "https://localhost:8080/",
          "height": 462
        },
        "outputId": "b216a9d0-3ca2-476e-c6bb-13b8b95df257"
      },
      "source": [
        "real_estate_sales.sort_values('above_avg_price', ascending=False).head()"
      ],
      "execution_count": null,
      "outputs": [
        {
          "output_type": "execute_result",
          "data": {
            "text/html": [
              "<div>\n",
              "<style scoped>\n",
              "    .dataframe tbody tr th:only-of-type {\n",
              "        vertical-align: middle;\n",
              "    }\n",
              "\n",
              "    .dataframe tbody tr th {\n",
              "        vertical-align: top;\n",
              "    }\n",
              "\n",
              "    .dataframe thead th {\n",
              "        text-align: right;\n",
              "    }\n",
              "</style>\n",
              "<table border=\"1\" class=\"dataframe\">\n",
              "  <thead>\n",
              "    <tr style=\"text-align: right;\">\n",
              "      <th></th>\n",
              "      <th>MLS #</th>\n",
              "      <th>Pics</th>\n",
              "      <th>Status</th>\n",
              "      <th>Area</th>\n",
              "      <th>Address</th>\n",
              "      <th>City</th>\n",
              "      <th>Zip</th>\n",
              "      <th>Unit #</th>\n",
              "      <th>ListPrice</th>\n",
              "      <th>SalePrice</th>\n",
              "      <th>List Agent - Agent Name</th>\n",
              "      <th>List Office - Office Code</th>\n",
              "      <th>Sold Square Feet</th>\n",
              "      <th>Sale Price Per SqFt</th>\n",
              "      <th>List Price Per SqFt</th>\n",
              "      <th>Bedrooms</th>\n",
              "      <th>TotalBaths</th>\n",
              "      <th># of Stories</th>\n",
              "      <th>Parking Display</th>\n",
              "      <th>DOM</th>\n",
              "      <th>MLS Map #</th>\n",
              "      <th>MAARSubDiv</th>\n",
              "      <th>Listing Date</th>\n",
              "      <th>Acreage</th>\n",
              "      <th>Carport/Garage</th>\n",
              "      <th>Pool Description</th>\n",
              "      <th>Condo</th>\n",
              "      <th>Condominium Name</th>\n",
              "      <th>Allow Internet Display</th>\n",
              "      <th>above_avg_price</th>\n",
              "    </tr>\n",
              "  </thead>\n",
              "  <tbody>\n",
              "    <tr>\n",
              "      <th>1693</th>\n",
              "      <td>10055729</td>\n",
              "      <td>//cdnparap110.paragonrels.com/ParagonImages/Pr...</td>\n",
              "      <td>CLOSD</td>\n",
              "      <td>862H</td>\n",
              "      <td>2872 PORT CHARLOTTE DR</td>\n",
              "      <td>Germantown</td>\n",
              "      <td>38138</td>\n",
              "      <td>NaN</td>\n",
              "      <td>$325,000</td>\n",
              "      <td>$320,000</td>\n",
              "      <td>Katherine Aiken</td>\n",
              "      <td>CRLI12</td>\n",
              "      <td>2612</td>\n",
              "      <td>123.0</td>\n",
              "      <td>124.0</td>\n",
              "      <td>5</td>\n",
              "      <td>3.0</td>\n",
              "      <td>3.0</td>\n",
              "      <td>G4</td>\n",
              "      <td>4</td>\n",
              "      <td>Germantown/Central</td>\n",
              "      <td>GERMANTOWN STATION SEC A</td>\n",
              "      <td>6/22/2019</td>\n",
              "      <td>0.71</td>\n",
              "      <td>Garage</td>\n",
              "      <td>None</td>\n",
              "      <td>No</td>\n",
              "      <td>NaN</td>\n",
              "      <td>Yes</td>\n",
              "      <td>1</td>\n",
              "    </tr>\n",
              "    <tr>\n",
              "      <th>2060</th>\n",
              "      <td>10056711</td>\n",
              "      <td>//cdnparap110.paragonrels.com/ParagonImages/Pr...</td>\n",
              "      <td>CLOSD</td>\n",
              "      <td>862A</td>\n",
              "      <td>8201 KIMBROOK DR</td>\n",
              "      <td>Germantown</td>\n",
              "      <td>38138</td>\n",
              "      <td>NaN</td>\n",
              "      <td>$352,000</td>\n",
              "      <td>$352,000</td>\n",
              "      <td>Vivian Y Leow</td>\n",
              "      <td>AREN</td>\n",
              "      <td>2870</td>\n",
              "      <td>123.0</td>\n",
              "      <td>123.0</td>\n",
              "      <td>4</td>\n",
              "      <td>2.1</td>\n",
              "      <td>2.0</td>\n",
              "      <td>2</td>\n",
              "      <td>22</td>\n",
              "      <td>Germantown/Central</td>\n",
              "      <td>KIMBROUGH ESTATES</td>\n",
              "      <td>7/6/2019</td>\n",
              "      <td>0.27</td>\n",
              "      <td>NaN</td>\n",
              "      <td>In Ground</td>\n",
              "      <td>No</td>\n",
              "      <td>NaN</td>\n",
              "      <td>Yes</td>\n",
              "      <td>1</td>\n",
              "    </tr>\n",
              "    <tr>\n",
              "      <th>2083</th>\n",
              "      <td>9999443</td>\n",
              "      <td>//cdnparap110.paragonrels.com/ParagonImages/Pr...</td>\n",
              "      <td>CLOSD</td>\n",
              "      <td>862D</td>\n",
              "      <td>2047 MYRTLE BEND DR</td>\n",
              "      <td>Germantown</td>\n",
              "      <td>38139</td>\n",
              "      <td>NaN</td>\n",
              "      <td>$358,000</td>\n",
              "      <td>$354,000</td>\n",
              "      <td>Tina Ragsdale</td>\n",
              "      <td>SREC</td>\n",
              "      <td>2955</td>\n",
              "      <td>120.0</td>\n",
              "      <td>121.0</td>\n",
              "      <td>4</td>\n",
              "      <td>2.1</td>\n",
              "      <td>1.7</td>\n",
              "      <td>2A</td>\n",
              "      <td>45</td>\n",
              "      <td>Germantown/Central</td>\n",
              "      <td>DUNTREATH SEC C</td>\n",
              "      <td>4/7/2017</td>\n",
              "      <td>0.41</td>\n",
              "      <td>NaN</td>\n",
              "      <td>In Ground</td>\n",
              "      <td>No</td>\n",
              "      <td>NaN</td>\n",
              "      <td>Yes</td>\n",
              "      <td>1</td>\n",
              "    </tr>\n",
              "    <tr>\n",
              "      <th>2082</th>\n",
              "      <td>10068735</td>\n",
              "      <td>//cdnparap110.paragonrels.com/ParagonImages/Pr...</td>\n",
              "      <td>CLOSD</td>\n",
              "      <td>862B</td>\n",
              "      <td>2031 WHISPERING PINES DR</td>\n",
              "      <td>Germantown</td>\n",
              "      <td>38139</td>\n",
              "      <td>NaN</td>\n",
              "      <td>$354,900</td>\n",
              "      <td>$354,000</td>\n",
              "      <td>Amy S Williams</td>\n",
              "      <td>CRLI09</td>\n",
              "      <td>2668</td>\n",
              "      <td>133.0</td>\n",
              "      <td>133.0</td>\n",
              "      <td>4</td>\n",
              "      <td>2.1</td>\n",
              "      <td>2.0</td>\n",
              "      <td>G2</td>\n",
              "      <td>19</td>\n",
              "      <td>Germantown/Central</td>\n",
              "      <td>FARMINGTON BLK A</td>\n",
              "      <td>1/10/2020</td>\n",
              "      <td>0.38</td>\n",
              "      <td>Garage</td>\n",
              "      <td>In Ground</td>\n",
              "      <td>No</td>\n",
              "      <td>NaN</td>\n",
              "      <td>Yes</td>\n",
              "      <td>1</td>\n",
              "    </tr>\n",
              "    <tr>\n",
              "      <th>2081</th>\n",
              "      <td>3214860</td>\n",
              "      <td>//cdnparap110.paragonrels.com/ParagonImages/Pr...</td>\n",
              "      <td>CLOSD</td>\n",
              "      <td>862D</td>\n",
              "      <td>2178 E GLENALDEN DRIVE</td>\n",
              "      <td>Germantown</td>\n",
              "      <td>38139</td>\n",
              "      <td>NaN</td>\n",
              "      <td>$354,000</td>\n",
              "      <td>$354,000</td>\n",
              "      <td>Sissy A Vaughan</td>\n",
              "      <td>PRPR</td>\n",
              "      <td>3341</td>\n",
              "      <td>106.0</td>\n",
              "      <td>NaN</td>\n",
              "      <td>4</td>\n",
              "      <td>3.1</td>\n",
              "      <td>2.0</td>\n",
              "      <td>G2A</td>\n",
              "      <td>7</td>\n",
              "      <td>Germantown/Central</td>\n",
              "      <td>GLENALDEN</td>\n",
              "      <td>1/5/2011</td>\n",
              "      <td>0.31</td>\n",
              "      <td>Garage</td>\n",
              "      <td>Neighborhood</td>\n",
              "      <td>No</td>\n",
              "      <td>NaN</td>\n",
              "      <td>Yes</td>\n",
              "      <td>1</td>\n",
              "    </tr>\n",
              "  </tbody>\n",
              "</table>\n",
              "</div>"
            ],
            "text/plain": [
              "         MLS #  ... above_avg_price\n",
              "1693  10055729  ...               1\n",
              "2060  10056711  ...               1\n",
              "2083   9999443  ...               1\n",
              "2082  10068735  ...               1\n",
              "2081   3214860  ...               1\n",
              "\n",
              "[5 rows x 30 columns]"
            ]
          },
          "metadata": {
            "tags": []
          },
          "execution_count": 9
        }
      ]
    },
    {
      "cell_type": "markdown",
      "metadata": {
        "id": "GUjWE3Re2Viy",
        "colab_type": "text"
      },
      "source": [
        "This appears to have worked.  We can check if there were any mistakes:"
      ]
    },
    {
      "cell_type": "code",
      "metadata": {
        "id": "SapYBu_i17B_",
        "colab_type": "code",
        "colab": {
          "base_uri": "https://localhost:8080/",
          "height": 663
        },
        "outputId": "4d1d4ba4-0c24-4f35-e0b6-8ffc7054588b"
      },
      "source": [
        "print(real_estate_sales.info())"
      ],
      "execution_count": null,
      "outputs": [
        {
          "output_type": "stream",
          "text": [
            "<class 'pandas.core.frame.DataFrame'>\n",
            "Int64Index: 2841 entries, 26 to 3113\n",
            "Data columns (total 30 columns):\n",
            " #   Column                     Non-Null Count  Dtype  \n",
            "---  ------                     --------------  -----  \n",
            " 0   MLS #                      2841 non-null   int64  \n",
            " 1   Pics                       2841 non-null   object \n",
            " 2   Status                     2841 non-null   object \n",
            " 3   Area                       2841 non-null   object \n",
            " 4   Address                    2841 non-null   object \n",
            " 5   City                       2841 non-null   object \n",
            " 6   Zip                        2841 non-null   object \n",
            " 7   Unit #                     8 non-null      float64\n",
            " 8   ListPrice                  2841 non-null   object \n",
            " 9   SalePrice                  2841 non-null   object \n",
            " 10  List Agent - Agent Name    2841 non-null   object \n",
            " 11  List Office - Office Code  2841 non-null   object \n",
            " 12  Sold Square Feet           2841 non-null   int64  \n",
            " 13  Sale Price Per SqFt        2834 non-null   float64\n",
            " 14  List Price Per SqFt        1647 non-null   float64\n",
            " 15  Bedrooms                   2841 non-null   int64  \n",
            " 16  TotalBaths                 2841 non-null   float64\n",
            " 17  # of Stories               2841 non-null   float64\n",
            " 18  Parking Display            2841 non-null   object \n",
            " 19  DOM                        2841 non-null   int64  \n",
            " 20  MLS Map #                  2841 non-null   object \n",
            " 21  MAARSubDiv                 2841 non-null   object \n",
            " 22  Listing Date               2841 non-null   object \n",
            " 23  Acreage                    2819 non-null   float64\n",
            " 24  Carport/Garage             2478 non-null   object \n",
            " 25  Pool Description           2841 non-null   object \n",
            " 26  Condo                      2841 non-null   object \n",
            " 27  Condominium Name           0 non-null      object \n",
            " 28  Allow Internet Display     2841 non-null   object \n",
            " 29  above_avg_price            2841 non-null   int64  \n",
            "dtypes: float64(6), int64(5), object(19)\n",
            "memory usage: 688.1+ KB\n",
            "None\n"
          ],
          "name": "stdout"
        }
      ]
    },
    {
      "cell_type": "code",
      "metadata": {
        "id": "cBoA7Lkw21pS",
        "colab_type": "code",
        "colab": {
          "base_uri": "https://localhost:8080/",
          "height": 51
        },
        "outputId": "fe9adac1-6fbd-4a35-c71b-a068c1c2a7d5"
      },
      "source": [
        "correct = 0\n",
        "mistakes = 0\n",
        "for idx,row in real_estate_sales.iterrows():\n",
        "  if row['above_avg_price'] == 1:\n",
        "    if row['Sale Price Per SqFt'] < avg_price:\n",
        "      mistakes += 1\n",
        "    else: \n",
        "      correct += 1\n",
        "  else:\n",
        "      correct += 1\n",
        "print(f\"Number of mistakes: {mistakes}\")\n",
        "print(f\"Number correct: {correct}\")"
      ],
      "execution_count": null,
      "outputs": [
        {
          "output_type": "stream",
          "text": [
            "Number of mistakes: 0\n",
            "Number correct: 2841\n"
          ],
          "name": "stdout"
        }
      ]
    },
    {
      "cell_type": "markdown",
      "metadata": {
        "id": "Hcf0uNKiVuTS",
        "colab_type": "text"
      },
      "source": [
        "Ok the number of correct matches the number of rows so that's good.  \n",
        "Now I want to make a column to keep track of whether or not it's below average DOM:"
      ]
    },
    {
      "cell_type": "code",
      "metadata": {
        "id": "YWe0eHPaV1c-",
        "colab_type": "code",
        "colab": {}
      },
      "source": [
        "# I'll do it the same way as I checked above avg. price.\n",
        "\n",
        "def DOM_check(row):\n",
        "  if row['DOM'] < avg_days:\n",
        "    return 1\n",
        "  else:\n",
        "    return 0\n",
        "\n",
        "real_estate_sales['below_avg_DOM'] = real_estate_sales.apply(DOM_check,axis='columns')"
      ],
      "execution_count": null,
      "outputs": []
    },
    {
      "cell_type": "code",
      "metadata": {
        "id": "-ycIoRc4ci2F",
        "colab_type": "code",
        "colab": {
          "base_uri": "https://localhost:8080/",
          "height": 68
        },
        "outputId": "6011f81b-0d29-4aa3-aad4-29a5ad901b4b"
      },
      "source": [
        "real_estate_sales['below_avg_DOM'].value_counts(dropna=False)"
      ],
      "execution_count": null,
      "outputs": [
        {
          "output_type": "execute_result",
          "data": {
            "text/plain": [
              "1    1858\n",
              "0     983\n",
              "Name: below_avg_DOM, dtype: int64"
            ]
          },
          "metadata": {
            "tags": []
          },
          "execution_count": 13
        }
      ]
    },
    {
      "cell_type": "code",
      "metadata": {
        "id": "t_YPKhqVcuhl",
        "colab_type": "code",
        "colab": {
          "base_uri": "https://localhost:8080/",
          "height": 68
        },
        "outputId": "93196c10-666d-4aa6-9897-7b5381b40187"
      },
      "source": [
        "real_estate_sales['above_avg_price'].value_counts(dropna=False)"
      ],
      "execution_count": null,
      "outputs": [
        {
          "output_type": "execute_result",
          "data": {
            "text/plain": [
              "0    1592\n",
              "1    1249\n",
              "Name: above_avg_price, dtype: int64"
            ]
          },
          "metadata": {
            "tags": []
          },
          "execution_count": 14
        }
      ]
    },
    {
      "cell_type": "markdown",
      "metadata": {
        "id": "1lXg16PHccJR",
        "colab_type": "text"
      },
      "source": [
        "Ok good: for both variables we have a good number of rows above and below the mean.  \n",
        "Still I would like to check the histogram on DOM to see the distribution:"
      ]
    },
    {
      "cell_type": "code",
      "metadata": {
        "id": "CWezkG3peaYL",
        "colab_type": "code",
        "colab": {
          "base_uri": "https://localhost:8080/",
          "height": 282
        },
        "outputId": "aa733579-1bc6-4a28-ba58-d1323387317f"
      },
      "source": [
        "real_estate_sales['DOM'].plot.hist()"
      ],
      "execution_count": null,
      "outputs": [
        {
          "output_type": "execute_result",
          "data": {
            "text/plain": [
              "<matplotlib.axes._subplots.AxesSubplot at 0x7fbc1b0f5f28>"
            ]
          },
          "metadata": {
            "tags": []
          },
          "execution_count": 15
        },
        {
          "output_type": "display_data",
          "data": {
            "image/png": "[encoded data removed]",
            "text/plain": [
              "<Figure size 432x288 with 1 Axes>"
            ]
          },
          "metadata": {
            "tags": [],
            "needs_background": "light"
          }
        }
      ]
    },
    {
      "cell_type": "markdown",
      "metadata": {
        "id": "jzsp-upJfEUI",
        "colab_type": "text"
      },
      "source": [
        "Well...... It's highly \"right\" skewed... We might want to also run a parallel analysis based on the median to not be influenced by outliers on the higher end.  So I'll make a new column for *below_median_DOM*:"
      ]
    },
    {
      "cell_type": "code",
      "metadata": {
        "id": "9-kvmkBhfz3W",
        "colab_type": "code",
        "colab": {
          "base_uri": "https://localhost:8080/",
          "height": 34
        },
        "outputId": "fcc4f4e7-26c0-409c-e2b8-979e39f623a5"
      },
      "source": [
        "median_days = real_estate_sales['DOM'].median()\n",
        "print(f\"The median time to sell a house: {round(median_days,1)} days.\")"
      ],
      "execution_count": null,
      "outputs": [
        {
          "output_type": "stream",
          "text": [
            "The median time to sell a house: 40.0 days.\n"
          ],
          "name": "stdout"
        }
      ]
    },
    {
      "cell_type": "code",
      "metadata": {
        "id": "m5LWgC_IgE0C",
        "colab_type": "code",
        "colab": {
          "base_uri": "https://localhost:8080/",
          "height": 68
        },
        "outputId": "c0efd2ab-cd7d-436c-a443-6111d0185f3e"
      },
      "source": [
        "def DOM_check2(row):\n",
        "  if row['DOM'] < median_days:\n",
        "    return 1\n",
        "  else:\n",
        "    return 0\n",
        "\n",
        "real_estate_sales['below_median_DOM'] = real_estate_sales.apply(DOM_check2,axis='columns')\n",
        "real_estate_sales['below_median_DOM'].value_counts(dropna=False)"
      ],
      "execution_count": null,
      "outputs": [
        {
          "output_type": "execute_result",
          "data": {
            "text/plain": [
              "0    1421\n",
              "1    1420\n",
              "Name: below_median_DOM, dtype: int64"
            ]
          },
          "metadata": {
            "tags": []
          },
          "execution_count": 17
        }
      ]
    },
    {
      "cell_type": "markdown",
      "metadata": {
        "id": "1bk6-HU7ea2k",
        "colab_type": "text"
      },
      "source": [
        "Now let's look at the *Pool Description* column:"
      ]
    },
    {
      "cell_type": "code",
      "metadata": {
        "id": "qTp_Qp12UXxT",
        "colab_type": "code",
        "colab": {
          "base_uri": "https://localhost:8080/",
          "height": 34
        },
        "outputId": "43cf204f-cbae-4173-f2e8-889b02d15abb"
      },
      "source": [
        "real_estate_sales['Pool Description'].unique()"
      ],
      "execution_count": null,
      "outputs": [
        {
          "output_type": "execute_result",
          "data": {
            "text/plain": [
              "array(['None', 'In Ground', 'Neighborhood', 'Above Ground'], dtype=object)"
            ]
          },
          "metadata": {
            "tags": []
          },
          "execution_count": 18
        }
      ]
    },
    {
      "cell_type": "markdown",
      "metadata": {
        "id": "rf5FUR_FdEf2",
        "colab_type": "text"
      },
      "source": [
        "Ok we don't want neighborhood pools, we're specifically interested in *In Ground* pools.  \n",
        "> Finally, let's find out the probabilities we seek!"
      ]
    },
    {
      "cell_type": "markdown",
      "metadata": {
        "id": "PTpp_OEyrWkj",
        "colab_type": "text"
      },
      "source": [
        "## Probability  Calculation:\n",
        "This isn't the best way to assess the situation, but it illustrates how you could answer the question posed above.\n",
        "\n",
        "First we should calculate each conditional probability, then we'll combine them:"
      ]
    },
    {
      "cell_type": "code",
      "metadata": {
        "id": "WOxEdk7xq1Mo",
        "colab_type": "code",
        "colab": {
          "base_uri": "https://localhost:8080/",
          "height": 51
        },
        "outputId": "d89c7f08-9878-4627-ffa1-d4bd5075c65f"
      },
      "source": [
        "print(\"Probability of an above-average sale:\")\n",
        "\n",
        "above_average_sale = real_estate_sales['above_avg_price'].sum()\n",
        "total_sales = real_estate_sales['above_avg_price'].count()\n",
        "\n",
        "prob_sales = above_average_sale/total_sales\n",
        "\n",
        "print(round(prob_sales,4))"
      ],
      "execution_count": null,
      "outputs": [
        {
          "output_type": "stream",
          "text": [
            "Probability of an above-average sale:\n",
            "0.4396\n"
          ],
          "name": "stdout"
        }
      ]
    },
    {
      "cell_type": "code",
      "metadata": {
        "id": "DtKOM_3AtPqY",
        "colab_type": "code",
        "colab": {
          "base_uri": "https://localhost:8080/",
          "height": 51
        },
        "outputId": "776d99c9-c43f-4e0b-c26e-60d96a46bcfe"
      },
      "source": [
        "print(\"Probability of below-average DOM:\")\n",
        "\n",
        "below_avg_DOM = real_estate_sales['below_avg_DOM'].sum()\n",
        "\n",
        "prob_DOM = below_avg_DOM/total_sales\n",
        "\n",
        "print(round(prob_DOM,4))"
      ],
      "execution_count": null,
      "outputs": [
        {
          "output_type": "stream",
          "text": [
            "Probability of below-average DOM:\n",
            "0.654\n"
          ],
          "name": "stdout"
        }
      ]
    },
    {
      "cell_type": "code",
      "metadata": {
        "id": "ttvGIlLbuQwW",
        "colab_type": "code",
        "colab": {
          "base_uri": "https://localhost:8080/",
          "height": 51
        },
        "outputId": "9f5d48dd-f4ec-4083-f432-423b2f175160"
      },
      "source": [
        "print(\"Probability of below-median DOM:\")\n",
        "\n",
        "below_median_DOM = real_estate_sales['below_median_DOM'].sum()\n",
        "\n",
        "prob_DOM2 = below_median_DOM/total_sales\n",
        "\n",
        "print(round(prob_DOM2,4))\n",
        "#### 50% as expected of course:"
      ],
      "execution_count": null,
      "outputs": [
        {
          "output_type": "stream",
          "text": [
            "Probability of below-median DOM:\n",
            "0.4998\n"
          ],
          "name": "stdout"
        }
      ]
    },
    {
      "cell_type": "code",
      "metadata": {
        "id": "IhAULWunu95U",
        "colab_type": "code",
        "colab": {
          "base_uri": "https://localhost:8080/",
          "height": 51
        },
        "outputId": "d8532ac7-bded-41f8-e8ad-d8059e57e8ea"
      },
      "source": [
        "print(\"Probability of having a pool:\")\n",
        "\n",
        "pool = real_estate_sales[real_estate_sales['Pool Description'] == 'In Ground']['Pool Description'].count()\n",
        "\n",
        "prob_pool = pool/total_sales\n",
        "\n",
        "print(round(prob_pool,4))"
      ],
      "execution_count": null,
      "outputs": [
        {
          "output_type": "stream",
          "text": [
            "Probability of having a pool:\n",
            "0.3288\n"
          ],
          "name": "stdout"
        }
      ]
    },
    {
      "cell_type": "markdown",
      "metadata": {
        "id": "ndPDJMq-wKXj",
        "colab_type": "text"
      },
      "source": [
        "### **Combining DOM & Sales Probabilities**\n"
      ]
    },
    {
      "cell_type": "code",
      "metadata": {
        "id": "QM242zeXv_6r",
        "colab_type": "code",
        "colab": {
          "base_uri": "https://localhost:8080/",
          "height": 51
        },
        "outputId": "9de1b923-78be-420d-cd52-89ad4beee89f"
      },
      "source": [
        "print(\"Probability of below-average DOM and above-average sale price:\")\n",
        "\n",
        "combined1 = prob_DOM * prob_sales\n",
        "print(combined1)"
      ],
      "execution_count": null,
      "outputs": [
        {
          "output_type": "stream",
          "text": [
            "Probability of below-average DOM and above-average sale price:\n",
            "0.2875184248943879\n"
          ],
          "name": "stdout"
        }
      ]
    },
    {
      "cell_type": "markdown",
      "metadata": {
        "id": "_xmcyKc6x8Ts",
        "colab_type": "text"
      },
      "source": [
        "### **Answer:** *Probability of below-average DOM and above-average sale price given the house has a pool:*"
      ]
    },
    {
      "cell_type": "code",
      "metadata": {
        "id": "DdWkpehq58pQ",
        "colab_type": "code",
        "colab": {}
      },
      "source": [
        "# Let's test it empirically (because we have the full dataset so we can find the empiral combined probability \n",
        "# which differs from just multiplying the individual probabilities together):\n",
        "\n",
        "pool_DOM_price = real_estate_sales.loc[(real_estate_sales['Pool Description']=='In Ground') & (real_estate_sales['above_avg_price']==1) & (real_estate_sales['below_avg_DOM']==1)]['below_avg_DOM'].count()"
      ],
      "execution_count": null,
      "outputs": []
    },
    {
      "cell_type": "code",
      "metadata": {
        "id": "U0yqe3bb72VW",
        "colab_type": "code",
        "colab": {
          "base_uri": "https://localhost:8080/",
          "height": 34
        },
        "outputId": "497d47d2-5a8f-4522-c4cc-e6601eda7c40"
      },
      "source": [
        "A = pool_DOM_price/total_sales\n",
        "B = prob_pool\n",
        "print(A/B)"
      ],
      "execution_count": null,
      "outputs": [
        {
          "output_type": "stream",
          "text": [
            "0.35438972162740895\n"
          ],
          "name": "stdout"
        }
      ]
    },
    {
      "cell_type": "markdown",
      "metadata": {
        "id": "VWnUEUHcD9Hr",
        "colab_type": "text"
      },
      "source": [
        "**Let's take a step back and look at them individually:**  \n",
        "Probability of higher than avg sale price given pool:"
      ]
    },
    {
      "cell_type": "code",
      "metadata": {
        "id": "iV-bUlWiEIsg",
        "colab_type": "code",
        "colab": {
          "base_uri": "https://localhost:8080/",
          "height": 34
        },
        "outputId": "bd83f6b1-472a-4af7-98d2-ce2f33678f65"
      },
      "source": [
        "pool_price = real_estate_sales.loc[(real_estate_sales['Pool Description']=='In Ground') & (real_estate_sales['above_avg_price']==1)]['below_avg_DOM'].count()\n",
        "\n",
        "A2 = pool_price/total_sales\n",
        "\n",
        "print(A2/B)"
      ],
      "execution_count": null,
      "outputs": [
        {
          "output_type": "stream",
          "text": [
            "0.4282655246252676\n"
          ],
          "name": "stdout"
        }
      ]
    },
    {
      "cell_type": "markdown",
      "metadata": {
        "id": "VTF8xhzKEyOb",
        "colab_type": "text"
      },
      "source": [
        "![alt text](https://drive.google.com/uc?id=1V0w9I4Nn20mgy4kh2P8TQIHBwfPaXog3)\n",
        "\n",
        "And now for DOM:"
      ]
    },
    {
      "cell_type": "code",
      "metadata": {
        "id": "uLXPeaj1EZIl",
        "colab_type": "code",
        "colab": {
          "base_uri": "https://localhost:8080/",
          "height": 34
        },
        "outputId": "1ccc2289-3d46-43c2-91bf-cf2fd0d382a8"
      },
      "source": [
        "pool_DOM = real_estate_sales.loc[(real_estate_sales['Pool Description']=='In Ground') & (real_estate_sales['below_avg_DOM']==1)]['below_avg_DOM'].count()\n",
        "\n",
        "A3 = pool_DOM/total_sales\n",
        "\n",
        "print(A3/B)"
      ],
      "execution_count": null,
      "outputs": [
        {
          "output_type": "stream",
          "text": [
            "0.6638115631691648\n"
          ],
          "name": "stdout"
        }
      ]
    },
    {
      "cell_type": "markdown",
      "metadata": {
        "id": "yU3bcRuQI4Fr",
        "colab_type": "text"
      },
      "source": [
        "## **Conclusion:**\n",
        "It appears having a pool may help you sell the house slightly faster but it doesn't appear to increase the amount you sell it for (it may even decrease).  This needs to be assessed with more sophisticated statistics (multivariate regression) to measure the effect and cancel out the effect of selling fast on the price."
      ]
    },
    {
      "cell_type": "markdown",
      "metadata": {
        "id": "EzMDsifgK9lZ",
        "colab_type": "text"
      },
      "source": [
        "---\n",
        "# **Counting Number of Possible Outcomes:**  \n",
        "## Sampling without replacement:  \n",
        "> n * (n-1) * (n-2) * (n-3) ...  * 1 = n!\n",
        "\n",
        "How many ways can you watch 10 movies if only watched once: 10!"
      ]
    },
    {
      "cell_type": "code",
      "metadata": {
        "id": "LQrosrDRLtG0",
        "colab_type": "code",
        "colab": {
          "base_uri": "https://localhost:8080/",
          "height": 34
        },
        "outputId": "14123fb3-a3fe-4e50-f22a-6886b1cf2139"
      },
      "source": [
        "def factorial(numb):\n",
        "  x = 0\n",
        "  output = 1\n",
        "  while x < numb:\n",
        "    output *= numb - x\n",
        "    x += 1\n",
        "  return output\n",
        "\n",
        "print(factorial(10))"
      ],
      "execution_count": null,
      "outputs": [
        {
          "output_type": "stream",
          "text": [
            "3628800\n"
          ],
          "name": "stdout"
        }
      ]
    },
    {
      "cell_type": "code",
      "metadata": {
        "id": "YKFSn54XMdV4",
        "colab_type": "code",
        "colab": {
          "base_uri": "https://localhost:8080/",
          "height": 34
        },
        "outputId": "b460ff2f-6d41-4572-feff-f388dfb67e26"
      },
      "source": [
        "# alternative code:\n",
        "\n",
        "def factorial_alternative(numb):\n",
        "  output = 1\n",
        "  for each in range(1,numb+1):\n",
        "    output *= each\n",
        "  return output\n",
        "\n",
        "print(factorial_alternative(10))"
      ],
      "execution_count": null,
      "outputs": [
        {
          "output_type": "stream",
          "text": [
            "3628800\n"
          ],
          "name": "stdout"
        }
      ]
    },
    {
      "cell_type": "markdown",
      "metadata": {
        "id": "armE5JMjUXKL",
        "colab_type": "text"
      },
      "source": [
        "## Sampling a Subset\n",
        "### Combinations: *Order **Doesn't** Matter*\n",
        "\n",
        "![alt text](https://drive.google.com/uc?id=1Lza8Nw8KQiuvfNy77dTPwRfwuhlgVMLC)\n",
        "\n",
        "Where k = subset size and n = total set size.\n",
        "\n",
        "### Permutations: *Order Matters*\n",
        "\n",
        "![alt text](https://drive.google.com/uc?id=1BQPnftEFYamWy_gPg22uetYNn49t3mkY)"
      ]
    },
    {
      "cell_type": "markdown",
      "metadata": {
        "id": "g1n6iEgOWxFi",
        "colab_type": "text"
      },
      "source": [
        "---\n",
        "# **Discrete Random Variables**\n",
        "*Discrete* variables only have specific possible values, as opposed to *Continuous* variables that have an infinite number of possible values within a range. \n",
        "\n",
        "Obviously when talking about probability and discrete variables:  \n",
        "The sum of the probabilities of obtaining each possible value add up to 1.\n",
        "\n",
        "For example: in real_estate_sales, the number of bedrooms and bathroms is a discrete random variable. Let's look at its probability distribution:"
      ]
    },
    {
      "cell_type": "code",
      "metadata": {
        "id": "vsSO0GXDTHfA",
        "colab_type": "code",
        "colab": {
          "base_uri": "https://localhost:8080/",
          "height": 282
        },
        "outputId": "17b079bf-966c-4cb6-8e96-9b581c889bf3"
      },
      "source": [
        "real_estate_sales['Bedrooms'].hist()"
      ],
      "execution_count": null,
      "outputs": [
        {
          "output_type": "execute_result",
          "data": {
            "text/plain": [
              "<matplotlib.axes._subplots.AxesSubplot at 0x7fbc1b0f5e80>"
            ]
          },
          "metadata": {
            "tags": []
          },
          "execution_count": 30
        },
        {
          "output_type": "display_data",
          "data": {
            "image/png": "[encoded data removed]",
            "text/plain": [
              "<Figure size 432x288 with 1 Axes>"
            ]
          },
          "metadata": {
            "tags": [],
            "needs_background": "light"
          }
        }
      ]
    },
    {
      "cell_type": "markdown",
      "metadata": {
        "id": "zs64A4_WYpFA",
        "colab_type": "text"
      },
      "source": [
        "It actually has a somewhat normal distribution, which we'll discuss below.\n",
        "This is histogram represents the probability distribution.  We can also represent it in code:"
      ]
    },
    {
      "cell_type": "code",
      "metadata": {
        "id": "2Pd52yAoYl8n",
        "colab_type": "code",
        "colab": {
          "base_uri": "https://localhost:8080/",
          "height": 34
        },
        "outputId": "d9c335b1-396c-4b14-9045-d33e13d496f7"
      },
      "source": [
        "beds_distribution = {}\n",
        "for each in sorted(real_estate_sales['Bedrooms']):\n",
        "  if each not in beds_distribution:\n",
        "    beds_distribution[each] = 1\n",
        "  else:\n",
        "    beds_distribution[each] += 1\n",
        "\n",
        "print(beds_distribution)"
      ],
      "execution_count": null,
      "outputs": [
        {
          "output_type": "stream",
          "text": [
            "{2: 14, 3: 278, 4: 1964, 5: 547, 6: 36, 7: 2}\n"
          ],
          "name": "stdout"
        }
      ]
    },
    {
      "cell_type": "code",
      "metadata": {
        "id": "UNOCY3Q4ZOu6",
        "colab_type": "code",
        "colab": {
          "base_uri": "https://localhost:8080/",
          "height": 119
        },
        "outputId": "dbe7c5e7-20ea-452c-c2be-df9429ea524b"
      },
      "source": [
        "for each in range(max(beds_distribution)+1):\n",
        "  if each in beds_distribution:\n",
        "    print(f\"{each}: {beds_distribution[each]}\")"
      ],
      "execution_count": null,
      "outputs": [
        {
          "output_type": "stream",
          "text": [
            "2: 14\n",
            "3: 278\n",
            "4: 1964\n",
            "5: 547\n",
            "6: 36\n",
            "7: 2\n"
          ],
          "name": "stdout"
        }
      ]
    },
    {
      "cell_type": "markdown",
      "metadata": {
        "id": "1rtxnHpNaxfP",
        "colab_type": "text"
      },
      "source": [
        "We can use this to find the mean of the probability distribution (a weighted average):"
      ]
    },
    {
      "cell_type": "code",
      "metadata": {
        "id": "gQc54I_Tme4c",
        "colab_type": "code",
        "colab": {
          "base_uri": "https://localhost:8080/",
          "height": 34
        },
        "outputId": "66ffe3f8-3376-4a2d-ac38-f5b2f5a6a8d8"
      },
      "source": [
        "mean_of_distribution = 0\n",
        "for each in beds_distribution:\n",
        "  prob = beds_distribution[each]/total_sales\n",
        "  mean_of_distribution += prob*each\n",
        "\n",
        "print(mean_of_distribution)"
      ],
      "execution_count": null,
      "outputs": [
        {
          "output_type": "stream",
          "text": [
            "4.112284406898979\n"
          ],
          "name": "stdout"
        }
      ]
    },
    {
      "cell_type": "markdown",
      "metadata": {
        "id": "h5CX6YOke5EZ",
        "colab_type": "text"
      },
      "source": [
        "## **Variance & Standard Deviation**\n",
        "\n",
        "![alt text](https://drive.google.com/uc?id=18QB4ZBsbbON9bvMTpwRiqBy5pjb2hK7-)  \n",
        "\n",
        "The variance is the stdev squared.  It's the sum of all the squared distances of each point away from the mean of the probability distribution multipled by the probability of attaining each value (as given by the distribution).\n",
        "\n",
        "Let's calculated it for the beds distribution above:"
      ]
    },
    {
      "cell_type": "code",
      "metadata": {
        "id": "H14YZTlVbmrv",
        "colab_type": "code",
        "colab": {
          "base_uri": "https://localhost:8080/",
          "height": 51
        },
        "outputId": "c3bcc24a-0c14-4a01-95b4-21f34116bf86"
      },
      "source": [
        "variance = 0\n",
        "for each in beds_distribution:\n",
        "  squared_distance = (each - mean_of_distribution )**2\n",
        "  prob_of_value = beds_distribution[each]/total_sales\n",
        "  variance += squared_distance*prob_of_value\n",
        "print(variance**.5)\n",
        "\n",
        "# Sanity check:\n",
        "import statistics\n",
        "print(statistics.stdev(real_estate_sales['Bedrooms']))"
      ],
      "execution_count": null,
      "outputs": [
        {
          "output_type": "stream",
          "text": [
            "0.5954128517182676\n",
            "0.5955176686985213\n"
          ],
          "name": "stdout"
        }
      ]
    },
    {
      "cell_type": "markdown",
      "metadata": {
        "id": "_5rlF0xKrNtz",
        "colab_type": "text"
      },
      "source": [
        "We'll discuss standard deviation more but it's a good measure of central tendency.  (It tells you how spread out the data is, which is critical in statistics to compare groups of data points).\n",
        "\n",
        "---\n",
        "## **Covariance: Measuring How Two Variables Vary Together**\n",
        "![Covariance](https://drive.google.com/uc?id=1KBSF_r0smnhDCghXjPvkAmGmL9DVv2Em)  \n",
        "It's merely the sum of the differences between each data point and the mean of two data sets multiplied together, divided by the size of the sampled population.\n",
        "\n",
        "> If the Covariance is positive, it means that X and Y are positively correlated to some degree, and if negative vice versa (Cov = 0 : totally independent variables).\n",
        "\n",
        "### **Example:** *Investment Portfolio*  \n",
        "Covariance can be very useful for assessing the combined variance of two pools of data mixed together, such as when you are diversifying your investment portfolio to lower overall risk.  Here's the formula to keep track of how much of each investment is in the portfolio, how much they each vary independently, and how much they covary:\n",
        "\n",
        "![alt text](https://drive.google.com/uc?id=1TFehWYasowLv1kF-lbKzOSHdTSpGD368)\n",
        "\n",
        "\n",
        "So for example, if your portfolio was made up of 50% stock X with variance of 0.04 and 50% of stock Y with variance of 0.04, even though they have the same variance independently, by investing in both, you lower your risk. \n",
        "> This is because even though some factors would affect both stocks, there is also some level of independence so one could remain relatively constant if the other crashes for example.\n",
        "Let's say the Cov(X,Y) = 0.02.\n",
        "\n",
        "Therefore:  \n",
        "![alt text](https://drive.google.com/uc?id=15HAG-Z4Mv5gEb_C8OMUbudYcf6lW2IWU)\n",
        "\n",
        "So by buying two stocks with equal variance, we ended up with a lower overall variance.  **But note here that the covariance works against you if it's positive (since both stocks may respond equally bad in the face of an adverse event), and it works for you when it's negative (also known as \"hedging\").** \n",
        "This is why index funds are so appealing for large organizations (and anyone who doesn't trust market speculation).\n",
        "\n",
        "**More than Two Stocks:**\n",
        "To calculate covariance for more than two variables, you have to use a covariance matrix.  Here is a link showing how such a matrix could be used to figure out the overall variance of a stock portfolio with multiple stocks: https://www.youtube.com/watch?v=uQqUrPjwE-E \n",
        "\n",
        "## **Binomial Distribution: Bernoulli**\n",
        "Used for testing scenarios with only two possible outcomes (win vs. lose, true vs. false, etc.)  There can be a different probability of 1 vs 0.  Each data point is independent and discrete.\n",
        "\n",
        "**More than Two Variables:**\n",
        "\n",
        "The mean of the probability distribution is 0\\*Prob1 + 1\\*Prob2 just like above... So the expected value of *n* iterations is simply n(Prob of success) since the zero cancels out.\n",
        "\n",
        "The variance is n(Prob)(1-Prob).\n",
        "\n",
        "The probability mass function allows us to determine the probability of a certain number of successes:\n",
        "![alt text](https://drive.google.com/uc?id=1OQQcahiOA0-VT0I6TW5xhhH7jKwsx2I8) \n",
        "\n",
        "\n",
        "with pi being the probability of success of each independent trial.  Obviously x must be an integer. \n",
        "> This formula could be used to help casinos determine the likelihood of a poker player winning a certain number of hands without cheating.  \n",
        "\n",
        "Let's give it a shot!\n",
        "\n",
        "### **Example: Dungeons & Dragons**\n",
        "Let's say you have a D&D character with magic boots that allow him to take flight if he jumps high enough.  He has a 20% chance of taking flight on his turn.  The character gets in a fight that lasts 15 turns.  What's the probability that your character would take flight on 10 of those turns?\n",
        "\n",
        "x = 10 successes\n",
        "n = 15 total turns\n",
        "pi = 0.2 chance of success\n"
      ]
    },
    {
      "cell_type": "code",
      "metadata": {
        "id": "UIKgb4Avl4zc",
        "colab_type": "code",
        "colab": {
          "base_uri": "https://localhost:8080/",
          "height": 51
        },
        "outputId": "d43e9273-5820-4981-e315-39220bab6913"
      },
      "source": [
        "x = 10\n",
        "n = 15\n",
        "pi = 0.2\n",
        "\n",
        "def prob_mass_binomial(x,n,pi):\n",
        "  numerator = factorial(n)\n",
        "  denominator = factorial(x)*factorial(n-x)\n",
        "  prob = pi**x\n",
        "  complement = (1-pi)**(n-x)\n",
        "  output = numerator/denominator*prob*complement\n",
        "  return output\n",
        "\n",
        "print(f\"Unfortunately, the probability of flying for that much of the fight is only: {round(prob_mass_binomial(x,n,pi)*100,2)}%.\")\n",
        "print(\"Game Over\")"
      ],
      "execution_count": null,
      "outputs": [
        {
          "output_type": "stream",
          "text": [
            "Unfortunately, the probability of flying for that much of the fight is only: 0.01%.\n",
            "Game Over\n"
          ],
          "name": "stdout"
        }
      ]
    },
    {
      "cell_type": "markdown",
      "metadata": {
        "id": "xyZeVLc2KS1m",
        "colab_type": "text"
      },
      "source": [
        "Lets take a look at the whole distribution of possible x values and their probabilities:"
      ]
    },
    {
      "cell_type": "code",
      "metadata": {
        "id": "8bl3yQqWKSUO",
        "colab_type": "code",
        "colab": {
          "base_uri": "https://localhost:8080/",
          "height": 289
        },
        "outputId": "2ada8cd6-2bc5-4b1c-fedf-981bb96b257d"
      },
      "source": [
        "for each in range(n+1):\n",
        "  print(f\"{each}:   {round(prob_mass_binomial(each,n,pi)*100,2)}%\")"
      ],
      "execution_count": null,
      "outputs": [
        {
          "output_type": "stream",
          "text": [
            "0:   3.52%\n",
            "1:   13.19%\n",
            "2:   23.09%\n",
            "3:   25.01%\n",
            "4:   18.76%\n",
            "5:   10.32%\n",
            "6:   4.3%\n",
            "7:   1.38%\n",
            "8:   0.35%\n",
            "9:   0.07%\n",
            "10:   0.01%\n",
            "11:   0.0%\n",
            "12:   0.0%\n",
            "13:   0.0%\n",
            "14:   0.0%\n",
            "15:   0.0%\n"
          ],
          "name": "stdout"
        }
      ]
    },
    {
      "cell_type": "markdown",
      "metadata": {
        "id": "N54fJXN-Ou6d",
        "colab_type": "text"
      },
      "source": [
        "## **Poisson Distribution**"
      ]
    },
    {
      "cell_type": "markdown",
      "metadata": {
        "id": "mTinfYKbpO4W",
        "colab_type": "text"
      },
      "source": [
        "The Poisson Distribution specifically relates to measuring the number of events within a an interval of time or a region of space.  (For example, the number of people who enter a bar on a Friday night or the number of grains of sand on a beach).  It's very similar to the binomial distribution above except that the variable is not limited to 0 or 1 but could go on to infinity.\n",
        "\n",
        "> The mean (denoted *mu*) of the Poisson Distribution is actually the same as it's variance.  The mean is also described as the \"mean arrival rate,\" which must be held constant.  (So this can't be used in a situation where the mean rate of the event occurring is changing over time). Also this mean is supposed to be somewhat low (less than 7 supposedly as a rule of thumb).\n",
        "\n",
        "Below see the relevant formulas:  \n",
        "![alt text](https://drive.google.com/uc?id=1HPNSPbI2UKUTDvGucAabVZufJhKj5uJY)  \n",
        "\n",
        "\n",
        "So it's a very easy formula to work with because all you need to know is the mean and the value you're trying to find the probability of (denoted *x*). "
      ]
    },
    {
      "cell_type": "markdown",
      "metadata": {
        "id": "tPUS05cKuvNs",
        "colab_type": "text"
      },
      "source": [
        "## **Using Poisson with Binomial Random Variables:**\n",
        "When you have a very large number of trials (denoted *n* in the binomial probability mass function in the previous section), you can't use the binomial equation because it's overwhelming to compute.  [For anything over an n of 100,000, most systems will give you an error....]"
      ]
    },
    {
      "cell_type": "markdown",
      "metadata": {
        "id": "LcUSqso7vwfn",
        "colab_type": "text"
      },
      "source": [
        "What statisticians found is that for a large number of trials, the probability mass function approximates a Poisson distribution.\n",
        "\n",
        "> To calculate the *mu* variable for Poisson, it's simply:  \n",
        "mu = n * pi  (n= # of trials, pi = prob. of success in binomial terms)  \n",
        "**However remember: *mu* should be less than 7 for it to work**\n",
        "\n",
        "Let's create a function and test it out:\n"
      ]
    },
    {
      "cell_type": "code",
      "metadata": {
        "id": "F0Hv6G74t6by",
        "colab_type": "code",
        "colab": {
          "base_uri": "https://localhost:8080/",
          "height": 51
        },
        "outputId": "18bad3b3-735f-4bc6-c470-b73a6b3b860c"
      },
      "source": [
        "from math import e\n",
        "\n",
        "def prob_mass_poisson(mu,x):\n",
        "  numerator = (mu**x)*(e**(-mu))\n",
        "  denominator = factorial(x)\n",
        "  return numerator/denominator\n",
        "\n",
        "\n",
        "# Let's test out this function side-by-side with the binomial one:\n",
        "x = 10\n",
        "n = 200000\n",
        "pi = .00001  # remember we need a low mu... in this case \n",
        "mu = n * pi\n",
        "\n",
        "print(prob_mass_poisson(mu,x))\n",
        "print(prob_mass_binomial(x,n,pi))"
      ],
      "execution_count": null,
      "outputs": [
        {
          "output_type": "stream",
          "text": [
            "3.8189850648779595e-05\n",
            "3.818469524778955e-05\n"
          ],
          "name": "stdout"
        }
      ]
    },
    {
      "cell_type": "markdown",
      "metadata": {
        "id": "xgg8djaw7Yd3",
        "colab_type": "text"
      },
      "source": [
        "As can be seen they're the same. And the binomial one took a much longer time to compute."
      ]
    },
    {
      "cell_type": "markdown",
      "metadata": {
        "id": "Guehq8ArYUHD",
        "colab_type": "text"
      },
      "source": [
        "### **Example:** *Ranges of Outcomes*\n",
        "Sometimes you want to find the probability of a range of outcome values. For example, for the above probability, what if we wanted to find the probability *x* is between 10 and 20 (inclusive)? \n",
        "\n",
        "> For a continuous variable, this would involve charting out the probability distribution and taking the integral (area under the curve) for the relevant range within that distribution.  But since we're dealing with a discrete variable, it's simply P(10) + P(11) + P(12) .... P(20)."
      ]
    },
    {
      "cell_type": "code",
      "metadata": {
        "id": "IdCurVidX37l",
        "colab_type": "code",
        "colab": {
          "base_uri": "https://localhost:8080/",
          "height": 34
        },
        "outputId": "55fdc6bc-d3db-48db-aca3-5fda2454da59"
      },
      "source": [
        "p_over_range = 0\n",
        "for each in range(10,21):\n",
        "  p_over_range += prob_mass_poisson(mu,each)\n",
        "\n",
        "print(f\"{round(p_over_range,5)}%\")"
      ],
      "execution_count": null,
      "outputs": [
        {
          "output_type": "stream",
          "text": [
            "5e-05%\n"
          ],
          "name": "stdout"
        }
      ]
    },
    {
      "cell_type": "code",
      "metadata": {
        "id": "iOGoY4xfa5sw",
        "colab_type": "code",
        "colab": {
          "base_uri": "https://localhost:8080/",
          "height": 51
        },
        "outputId": "528debe3-5a82-42ea-96d5-89edc68a7ebe"
      },
      "source": [
        "print(\"Compared to P(x=10) it's this much larger:\")\n",
        "print(f\"{round((p_over_range-prob_mass_poisson(mu,10))/prob_mass_poisson(mu,10),2)*100}%\")"
      ],
      "execution_count": null,
      "outputs": [
        {
          "output_type": "stream",
          "text": [
            "Compared to P(x=10) it's this much larger:\n",
            "22.0%\n"
          ],
          "name": "stdout"
        }
      ]
    },
    {
      "cell_type": "markdown",
      "metadata": {
        "id": "F7fREu3LeINO",
        "colab_type": "text"
      },
      "source": [
        "---\n",
        "# **Continuous Random Variables**\n",
        "As mentioned previously, for continuous variables in which there are an infinite number of possible values of *x* we use the area under the curve of the \"probability density function.\"  (It's like a histogram but a curve).  The total area under the curve is always 1 (or 100%)."
      ]
    },
    {
      "cell_type": "markdown",
      "metadata": {
        "id": "2jwKuU9FfAbd",
        "colab_type": "text"
      },
      "source": [
        "## **Uniform Probability Distribution**\n",
        "This is the most straightforward distribution: it assumes there is an equal probability of every occurrence.  \n",
        "> For example, if you were to choose a completely random number between 1 and 10, including as many decimal places as you wish...  The number could be 3 or 3.043240932840293832 with equal probability.  \n",
        "\n",
        "The probability distribution graph therefore is simply a rectangle with an area of 1 (so length * height = 1).  \n",
        "* Height = probability of any given value, \n",
        "* Length = the range of possible values.   \n",
        "\n",
        "The mean of this distribution is just the average between the min and max value.\n",
        "> So if the range is from 10 to 20, the mean of the distribution is 15.  \n",
        "Also the median = mean because the probability is uniform across all values.  \n",
        "\n",
        "The variance is found by the following equation (using a range for *a* to *b*):  \n",
        "![alt text](https://drive.google.com/uc?id=1XRHD5KJON_Orqqgd6Zkeji-XOjZ6xjWy)"
      ]
    },
    {
      "cell_type": "markdown",
      "metadata": {
        "id": "_l59p3vdka32",
        "colab_type": "text"
      },
      "source": [
        "## **Normal Distribution (*Bell-Curve, Gaussian Distribution*)**\n",
        "The normal distibution involves a more complicated formula but it's the distribution you probably have the most experience with.  That's because a normal distribution occurs in nature and is expected for completely random variables with infinite possible values.  \n",
        "\n",
        "**Normal distributions are especially important because many of the most common statistical tests work based on the assumption that a data set is relatively normal and not heavily skewed.**  \n",
        "\n",
        "> To create the distribution, all you need is the mean and stdev.  \n",
        "\n",
        "The following is the function used to get the curve for the standard deviation:\n",
        "\n",
        "![Normal Dist Function](https://drive.google.com/uc?id=1gwF7gEvv_gV7hpTkbEr6oVrMv0OJhItU)\n",
        "\n",
        "***However: it's really important to note that since this is a continuous distribution, the probability of the variable being any exact number in that continuum is actually 0 (since the possibilities are infinite).***  \n",
        "> Instead, we must find the probability within a range using an area under the curve.\n",
        "\n",
        "This shows the percentage of the distribution between 1-3 standard deviations from the mean:\n",
        "\n",
        "![alt text](https://drive.google.com/uc?id=1bvH1wfXR-eJ7W-W_g-aPaXwnw3Qve3mk)  \n",
        "\n",
        "We often visually inspect an empirical distribution of data in comparison to the expected normal distribution (using mean and stdev of the data) to ensure it seems relatively normal."
      ]
    },
    {
      "cell_type": "markdown",
      "metadata": {
        "id": "DgAZg9Ck53h0",
        "colab_type": "text"
      },
      "source": [
        "### **Using a Normal Distribution with Binomial Random Variables**\n",
        "We talked previously about how we can use a Poisson distribution for binomial variables as long as the n\\*pi is less than 7.  \n",
        "\n",
        "For cases where it's greater than 15, a normal distribution is more appropriate, and you can still use mu = n\\*pi.  You also want to check that n\\*(1-pi) is greater than 15.\n",
        "\n",
        "* So the mean (mu) = n\\*pi, and\n",
        "* The stdev (sigma) = sqrt(mu*(1-pi)) \n",
        "\n"
      ]
    },
    {
      "cell_type": "markdown",
      "metadata": {
        "id": "Agr_uVhSJSGr",
        "colab_type": "text"
      },
      "source": [
        "### **Z-Scores vs Integrals**\n",
        "Without computers, it's burdensome to integrate the normal curve function to determine the area under the curve between two points (to find the probability of a value existing between a range of values).  \n",
        "Therefore, stasticians have always utilized a z-score which allows one to standardize their normal distribution to a normal distribution wtih a mean of 0 and a stdev of 1 (designated a *standardized normal distribution*).\n",
        "\n",
        "> **Z-score**: To standardize in this way, you just take the minimum and maximum value in the range and work out the z-score by:  \n",
        "Subtracting the value by the mean and then dividing by the stdev.\n",
        "\n",
        "Once you have the z-score, you can just look it up  in a big table to find out the probability value for that score.\n",
        "\n",
        "**Using Integration Instead**: I've been seeing data science presented with Z-scores but I still don't really get why a data scientist armed with python would calculate z just to look it up in a table (albeit digitally) when they can just use the integral which is more direct.\n",
        "\n",
        "First, let's operationalize the normal curve function and then we can integrate:"
      ]
    },
    {
      "cell_type": "code",
      "metadata": {
        "id": "qybyBuEuLtwj",
        "colab_type": "code",
        "colab": {}
      },
      "source": [
        "# need to make sure we have the math functions to do sqrt, and to know the real value of pi and euler's number (e):\n",
        "from math import sqrt\n",
        "from math import e\n",
        "from math import pi as pi_\n",
        "\n",
        "\n",
        "# need to create the function of the normal curve:\n",
        "def function_normal_curve(x,mu,sigma):\n",
        "  denominator = sqrt(2*pi_*sigma**2)\n",
        "  exp_numerator = -(x-mu)**2\n",
        "  exp_denominator = 2*sigma**2\n",
        "  exponent = exp_numerator/exp_denominator\n",
        "  return (e**exponent)/denominator"
      ],
      "execution_count": null,
      "outputs": []
    },
    {
      "cell_type": "code",
      "metadata": {
        "id": "I-3T0Mc5Nk-y",
        "colab_type": "code",
        "colab": {
          "base_uri": "https://localhost:8080/",
          "height": 34
        },
        "outputId": "6a9ec74e-8846-4584-c154-86536ea5d02b"
      },
      "source": [
        "# We will use the built-in quad function to calculate the integral:\n",
        "from scipy.integrate import quad\n",
        "\n",
        "mu = 10\n",
        "sigma = 3\n",
        "\n",
        "\n",
        "# since the quad function only works with one variable, we need to create a little intermediary:\n",
        "def func_intermediary(x):\n",
        "  return function_normal_curve(x,mu,sigma)\n",
        "\n",
        "result = quad(func_intermediary,5,15)\n",
        "\n",
        "print(result)"
      ],
      "execution_count": null,
      "outputs": [
        {
          "output_type": "stream",
          "text": [
            "(0.9044192954543705, 1.0752580881705017e-13)\n"
          ],
          "name": "stdout"
        }
      ]
    },
    {
      "cell_type": "markdown",
      "metadata": {
        "id": "_AR3i1QwRCPb",
        "colab_type": "text"
      },
      "source": [
        "The quad function will output a tuple with the integral as the first value and a measurement of error as the second variable.  (There are multiple methods of integration with varying errors associated based on the use case... but for simplicity we'll just focus on the first value):"
      ]
    },
    {
      "cell_type": "code",
      "metadata": {
        "id": "TKlS4R2DRZ6p",
        "colab_type": "code",
        "colab": {
          "base_uri": "https://localhost:8080/",
          "height": 51
        },
        "outputId": "b139d3a9-3f54-4108-bdb1-80b72d216968"
      },
      "source": [
        "print(\"The probability of selecting a number between 5 and 15 if the mean is 10 and stdev 3 of a normal distribution:\")\n",
        "print(f\"{round(result[0],4)*100}%\")"
      ],
      "execution_count": null,
      "outputs": [
        {
          "output_type": "stream",
          "text": [
            "The probability of selecting a number between 5 and 15 if the mean is 10 and stdev 3 of a normal distribution:\n",
            "90.44%\n"
          ],
          "name": "stdout"
        }
      ]
    },
    {
      "cell_type": "markdown",
      "metadata": {
        "id": "jCiKC4AYTPIO",
        "colab_type": "text"
      },
      "source": [
        "#### **Confirming with Binomial Probability from the Textbook:**\n",
        "On page 235 (Example 7.6):  \n",
        "> Suppose that for a large drug company, 30% of drugs undergoing\n",
        "clinical tests will be approved for the market. Sixty drugs (that are unrelated to\n",
        "each other) are being tested. What is the probability that less than 20 will be\n",
        "approved for the market?\n",
        "\n",
        "We have a binomial function with an *n* of 60 and a *pi* of 0.3.\n",
        "\n",
        "* n\\*pi = 18 (which is greater than 15 so we can use normal distribution to estimate probability)\n",
        "* n*(1-pi) = 42 (which is also greater than 15 so we're good)\n",
        "* As mentioned above, stdev = sqrt(mu*(1-pi))\n",
        "\n",
        "**A**: *Based on the text, the answer should be*: 0.71\n",
        "\n",
        "Let's set up our variables and solve:"
      ]
    },
    {
      "cell_type": "code",
      "metadata": {
        "id": "2st6eVLDVvSo",
        "colab_type": "code",
        "colab": {
          "base_uri": "https://localhost:8080/",
          "height": 51
        },
        "outputId": "ae90fbca-ee86-441c-c18d-45dcea7d2493"
      },
      "source": [
        "mu = 18\n",
        "sigma = sqrt(mu*(1-.3))\n",
        "\n",
        "def func_intermediary(x):\n",
        "  return function_normal_curve(x,mu,sigma)\n",
        "\n",
        "result = quad(func_intermediary,0,20)\n",
        "\n",
        "print(\"The probability that less than 20 drugs will be approved:\")\n",
        "print(f\"{round(result[0],4)*100}%\")\n"
      ],
      "execution_count": null,
      "outputs": [
        {
          "output_type": "stream",
          "text": [
            "The probability that less than 20 drugs will be approved:\n",
            "71.34%\n"
          ],
          "name": "stdout"
        }
      ]
    },
    {
      "cell_type": "markdown",
      "metadata": {
        "id": "dRbhnrMpWuKO",
        "colab_type": "text"
      },
      "source": [
        "And it checks out!"
      ]
    },
    {
      "cell_type": "markdown",
      "metadata": {
        "id": "e4G43mYfCnWk",
        "colab_type": "text"
      },
      "source": [
        "## **Exponential Distribution**\n",
        "As another type of continuous distribution, the exponential distribution also has a function whose area under the curve = 1 and the probability of a range of values can similarly be solved with an integration.  \n",
        "\n",
        "However, the formula is also rather straightforward to just find a range.\n",
        "> The key parameters are *lambda* (the rate of change), and *x* the point in the range you're solving for.\n",
        "\n",
        "**Note**: This distribution assumes x > 0. \n",
        "\n",
        "![exponential](https://drive.google.com/uc?id=1bIZ2HJXKKJ8cJ8eCxhDKVXm6T7Lb21cY)  \n",
        "\n",
        "What this tells us is the way to find the probability of getting any value between 0 and *x*.  (To get the probability of anything above *x*, simply remove the \"1 -\" to get the completement of this function).\n",
        "\n",
        "![alt text](https://drive.google.com/uc?id=1J5nIy580EEpkfebB_J4gBjvQGTbC0tao)\n",
        "\n",
        "**Also Note**: These are exponential decay functions (like you would use to measure radioactive decay or something decreasing exponentially)... So to make this an exponentially increasing function, just make the exponent positive.\n",
        "\n",
        "### **Use Cases**\n",
        "There are many processes that don't follow a linear pattern in the natural world.  (If it did, life would be pretty boring, with everything growing or declining at a set rate indefinitely...  \n",
        "Here are some examples:\n",
        "\n",
        "1. **Pandemic Modeling**: One person with the virus may spread it to 3.5 other people on average, with each of those 3-4 people spreading it to 3-4 more people, and the infected population grows exponentially.\n",
        "2. **Product Adoption**: A handful of early adopters of a product convince 5 other people on average to buy the product and they in turn convince 5 more each, and so on.\n",
        "3. (well you get the idea).....\n",
        "\n",
        "\n",
        "**Find probability within a  range of values**:  You can just use the combined probability principle and multiply the two probabilities together:\n",
        "> For example, if you want to know the probability x is between 5 and 10, just solve for P(x < 10) and P(x > 5) and multiply them together.\n",
        "\n"
      ]
    }
  ]
}