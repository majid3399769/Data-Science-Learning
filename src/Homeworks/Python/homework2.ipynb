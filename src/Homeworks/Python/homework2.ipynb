{
 "metadata": {
  "language_info": {
   "codemirror_mode": {
    "name": "ipython",
    "version": 3
   },
   "file_extension": ".py",
   "mimetype": "text/x-python",
   "name": "python",
   "nbconvert_exporter": "python",
   "pygments_lexer": "ipython3",
   "version": "3.8.5-final"
  },
  "orig_nbformat": 2,
  "kernelspec": {
   "name": "python3",
   "display_name": "Python 3.8.5 64-bit",
   "metadata": {
    "interpreter": {
     "hash": "048879c1c1673408d1fc7876ad19778ae55d687690184e08c70db74174f4e64c"
    }
   }
  }
 },
 "nbformat": 4,
 "nbformat_minor": 2,
 "cells": [
  {
   "cell_type": "code",
   "execution_count": 1,
   "metadata": {},
   "outputs": [],
   "source": [
    "from functools import reduce"
   ]
  },
  {
   "cell_type": "code",
   "execution_count": 2,
   "metadata": {},
   "outputs": [],
   "source": [
    "def lcm_cond(num_list, num):\n",
    "    flag_list = [num%i==0 for i in num_list]\n",
    "    flag_cond = reduce(lambda a,b: a&b, flag_list)\n",
    "    return flag_cond"
   ]
  },
  {
   "source": [
    "## Problem 1\n",
    "Write a program that accepts input as comma separated from the user and calculate LCM and print your output using f string and. format methods."
   ],
   "cell_type": "markdown",
   "metadata": {}
  },
  {
   "cell_type": "code",
   "execution_count": 14,
   "metadata": {},
   "outputs": [
    {
     "output_type": "stream",
     "name": "stdout",
     "text": [
      "LCM Value is :12\nLCM Value is : 12\n"
     ]
    }
   ],
   "source": [
    "num_str_list = input(\"Enter Numbers as comma seperated value\")\n",
    "num_list = num_str_list.split(\",\")\n",
    "num_list = list(filter(lambda x: x!=\"\",num_list))\n",
    "num_list = [int(i) for i in num_list]\n",
    "\n",
    "max_value =max(num_list)\n",
    "while(True):\n",
    "    if(lcm_cond(num_list,max_value)):\n",
    "        break\n",
    "    else:\n",
    "        max_value +=1\n",
    "print(\"LCM Value is :{:}\".format(max_value))\n",
    "print(f\"LCM Value is : {max_value}\")\n"
   ]
  },
  {
   "source": [
    "## Problem 2\n",
    "Write a program that asks the user to input your email address and adds even characters in the list data structure. \n",
    "\n"
   ],
   "cell_type": "markdown",
   "metadata": {
    "tags": []
   }
  },
  {
   "cell_type": "code",
   "execution_count": 10,
   "metadata": {},
   "outputs": [
    {
     "output_type": "stream",
     "name": "stdout",
     "text": [
      "mjdgalcm\n"
     ]
    }
   ],
   "source": [
    "email_str = input(\"Please enter your email adddress : \")\n",
    "email_even = email_str[0::2]\n",
    "print(email_even)"
   ]
  }
 ]
}