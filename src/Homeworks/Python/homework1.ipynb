{
 "metadata": {
  "language_info": {
   "codemirror_mode": {
    "name": "ipython",
    "version": 3
   },
   "file_extension": ".py",
   "mimetype": "text/x-python",
   "name": "python",
   "nbconvert_exporter": "python",
   "pygments_lexer": "ipython3",
   "version": "3.8.5-final"
  },
  "orig_nbformat": 2,
  "kernelspec": {
   "name": "python3",
   "display_name": "Python 3.8.5 64-bit",
   "metadata": {
    "interpreter": {
     "hash": "048879c1c1673408d1fc7876ad19778ae55d687690184e08c70db74174f4e64c"
    }
   }
  }
 },
 "nbformat": 4,
 "nbformat_minor": 2,
 "cells": [
  {
   "cell_type": "code",
   "execution_count": 1,
   "metadata": {},
   "outputs": [],
   "source": [
    "str1 =\"State Farm\"\n",
    "str2 = \"Enterprise Technologies\"\n",
    "\n",
    "op1 = str1+str2\n",
    "op2 = str1+\" \"+str2"
   ]
  },
  {
   "cell_type": "code",
   "execution_count": 4,
   "metadata": {},
   "outputs": [],
   "source": [
    "find1 = \"mEnt\"\n",
    "find2 = \"m Enter\"\n",
    "index1 = op1.find(find1)\n",
    "index2 = op2.find(find2)"
   ]
  },
  {
   "cell_type": "code",
   "execution_count": 8,
   "metadata": {},
   "outputs": [
    {
     "output_type": "stream",
     "name": "stdout",
     "text": [
      "mEnt\nm Enter\n"
     ]
    }
   ],
   "source": [
    "opt1_slice = op1[index1:index1+len(find1)]\n",
    "opt2_slice = op2[index1:index1+len(find2)]\n",
    "print(opt1_slice)\n",
    "print(opt2_slice)"
   ]
  },
  {
   "cell_type": "code",
   "execution_count": 9,
   "metadata": {},
   "outputs": [
    {
     "output_type": "execute_result",
     "data": {
      "text/plain": [
       "'MENT'"
      ]
     },
     "metadata": {},
     "execution_count": 9
    }
   ],
   "source": [
    "opt1_slice.upper()"
   ]
  },
  {
   "cell_type": "code",
   "execution_count": 11,
   "metadata": {},
   "outputs": [
    {
     "output_type": "execute_result",
     "data": {
      "text/plain": [
       "False"
      ]
     },
     "metadata": {},
     "execution_count": 11
    }
   ],
   "source": [
    "opt1_slice.upper().isnumeric()"
   ]
  }
 ]
}