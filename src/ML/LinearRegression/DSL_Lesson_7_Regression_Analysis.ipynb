{
  "nbformat": 4,
  "nbformat_minor": 0,
  "metadata": {
    "colab": {
      "name": "DSL Lesson 7: Regression Analysis",
      "provenance": [],
      "include_colab_link": true
    },
    "kernelspec": {
      "name": "python3",
      "display_name": "Python 3"
    }
  },
  "cells": [
    {
      "cell_type": "markdown",
      "metadata": {
        "id": "view-in-github",
        "colab_type": "text"
      },
      "source": [
        "<a href=\"https://colab.research.google.com/github/majidshaik/Data-Science-Learning/blob/master/src/ML/LinearRegression/DSL_Lesson_7_Regression_Analysis.ipynb\" target=\"_parent\"><img src=\"https://colab.research.google.com/assets/colab-badge.svg\" alt=\"Open In Colab\"/></a>"
      ]
    },
    {
      "cell_type": "markdown",
      "metadata": {
        "id": "pdQzwZZclnF6",
        "colab_type": "text"
      },
      "source": [
        "# **Regression Overview**\n",
        "As we saw in the last lesson, regression is simply the process of trying to create a \"best fit\" line through a set of data.  This line is then used as a predictor for new data (you just find the corresponding point on the line to predict the dependent variable's value based on one or more indedepentent variables.  The *line* of a regression may not actually be a straight line, depending on the regression model you use, which should be carefully chosen to reflect the distribution of the data (usually visualized with a scatter plot).\n",
        "\n"
      ]
    },
    {
      "cell_type": "markdown",
      "metadata": {
        "id": "A94ukZA5v7fM",
        "colab_type": "text"
      },
      "source": [
        "##**Linear Regression**##\n",
        "The simplest kind of regression is a *Simple Linear Regression* with one independent and one dependent variable.  The regression line calculated by this model is really just made up of the sum to squared differences of each point from the average: [Here's a way to do it manually in excel.](http://www.learnbymarketing.com/tutorials/linear-regression-by-hand-in-excel/#:~:text=Simple%20Linear%20Regression%20Math%20by%20Hand&text=Calculate%20the%20difference%20between%20each,average%20of%20your%20Y%20variable.)\n",
        "\n",
        "> Just as in any line the formula is y = mx + b.  (If x = 0, we will find the y intercept, which is b.  m is the slope (*rise over run* = how much y increases or decreases based on x).  \n",
        "\n",
        "![alt text](https://files.realpython.com/media/fig-lin-reg.a506035b654a.png)\n",
        "\n",
        "\n",
        "Let's see how easy it is to do in python:"
      ]
    },
    {
      "cell_type": "code",
      "metadata": {
        "id": "v7e3FrMwo3uy",
        "colab_type": "code",
        "colab": {
          "base_uri": "https://localhost:8080/",
          "height": 71
        },
        "outputId": "55c41ba8-f19c-4db9-a29d-778eaf7cd5e7"
      },
      "source": [
        "import seaborn as sns\n",
        "import pandas as pd"
      ],
      "execution_count": null,
      "outputs": [
        {
          "output_type": "stream",
          "text": [
            "/usr/local/lib/python3.6/dist-packages/statsmodels/tools/_testing.py:19: FutureWarning: pandas.util.testing is deprecated. Use the functions in the public API at pandas.testing instead.\n",
            "  import pandas.util.testing as tm\n"
          ],
          "name": "stderr"
        }
      ]
    },
    {
      "cell_type": "code",
      "metadata": {
        "id": "_aXC_grEo7bF",
        "colab_type": "code",
        "colab": {
          "base_uri": "https://localhost:8080/",
          "height": 411
        },
        "outputId": "e2557285-edfd-43ac-d570-c53966edc898"
      },
      "source": [
        "sns.get_dataset_names()"
      ],
      "execution_count": null,
      "outputs": [
        {
          "output_type": "stream",
          "text": [
            "/usr/local/lib/python3.6/dist-packages/seaborn/utils.py:384: UserWarning: No parser was explicitly specified, so I'm using the best available HTML parser for this system (\"lxml\"). This usually isn't a problem, but if you run this code on another system, or in a different virtual environment, it may use a different parser and behave differently.\n",
            "\n",
            "The code that caused this warning is on line 384 of the file /usr/local/lib/python3.6/dist-packages/seaborn/utils.py. To get rid of this warning, pass the additional argument 'features=\"lxml\"' to the BeautifulSoup constructor.\n",
            "\n",
            "  gh_list = BeautifulSoup(http)\n"
          ],
          "name": "stderr"
        },
        {
          "output_type": "execute_result",
          "data": {
            "text/plain": [
              "['anscombe',\n",
              " 'attention',\n",
              " 'brain_networks',\n",
              " 'car_crashes',\n",
              " 'diamonds',\n",
              " 'dots',\n",
              " 'exercise',\n",
              " 'flights',\n",
              " 'fmri',\n",
              " 'gammas',\n",
              " 'geyser',\n",
              " 'iris',\n",
              " 'mpg',\n",
              " 'penguins',\n",
              " 'planets',\n",
              " 'tips',\n",
              " 'titanic']"
            ]
          },
          "metadata": {
            "tags": []
          },
          "execution_count": 2
        }
      ]
    },
    {
      "cell_type": "code",
      "metadata": {
        "id": "JzjoGL5CpaC0",
        "colab_type": "code",
        "colab": {
          "base_uri": "https://localhost:8080/",
          "height": 419
        },
        "outputId": "f151e69b-14f7-443a-dd9f-0aa8e3aea79a"
      },
      "source": [
        "sns.load_dataset('mpg')"
      ],
      "execution_count": null,
      "outputs": [
        {
          "output_type": "execute_result",
          "data": {
            "text/html": [
              "<div>\n",
              "<style scoped>\n",
              "    .dataframe tbody tr th:only-of-type {\n",
              "        vertical-align: middle;\n",
              "    }\n",
              "\n",
              "    .dataframe tbody tr th {\n",
              "        vertical-align: top;\n",
              "    }\n",
              "\n",
              "    .dataframe thead th {\n",
              "        text-align: right;\n",
              "    }\n",
              "</style>\n",
              "<table border=\"1\" class=\"dataframe\">\n",
              "  <thead>\n",
              "    <tr style=\"text-align: right;\">\n",
              "      <th></th>\n",
              "      <th>mpg</th>\n",
              "      <th>cylinders</th>\n",
              "      <th>displacement</th>\n",
              "      <th>horsepower</th>\n",
              "      <th>weight</th>\n",
              "      <th>acceleration</th>\n",
              "      <th>model_year</th>\n",
              "      <th>origin</th>\n",
              "      <th>name</th>\n",
              "    </tr>\n",
              "  </thead>\n",
              "  <tbody>\n",
              "    <tr>\n",
              "      <th>0</th>\n",
              "      <td>18.0</td>\n",
              "      <td>8</td>\n",
              "      <td>307.0</td>\n",
              "      <td>130.0</td>\n",
              "      <td>3504</td>\n",
              "      <td>12.0</td>\n",
              "      <td>70</td>\n",
              "      <td>usa</td>\n",
              "      <td>chevrolet chevelle malibu</td>\n",
              "    </tr>\n",
              "    <tr>\n",
              "      <th>1</th>\n",
              "      <td>15.0</td>\n",
              "      <td>8</td>\n",
              "      <td>350.0</td>\n",
              "      <td>165.0</td>\n",
              "      <td>3693</td>\n",
              "      <td>11.5</td>\n",
              "      <td>70</td>\n",
              "      <td>usa</td>\n",
              "      <td>buick skylark 320</td>\n",
              "    </tr>\n",
              "    <tr>\n",
              "      <th>2</th>\n",
              "      <td>18.0</td>\n",
              "      <td>8</td>\n",
              "      <td>318.0</td>\n",
              "      <td>150.0</td>\n",
              "      <td>3436</td>\n",
              "      <td>11.0</td>\n",
              "      <td>70</td>\n",
              "      <td>usa</td>\n",
              "      <td>plymouth satellite</td>\n",
              "    </tr>\n",
              "    <tr>\n",
              "      <th>3</th>\n",
              "      <td>16.0</td>\n",
              "      <td>8</td>\n",
              "      <td>304.0</td>\n",
              "      <td>150.0</td>\n",
              "      <td>3433</td>\n",
              "      <td>12.0</td>\n",
              "      <td>70</td>\n",
              "      <td>usa</td>\n",
              "      <td>amc rebel sst</td>\n",
              "    </tr>\n",
              "    <tr>\n",
              "      <th>4</th>\n",
              "      <td>17.0</td>\n",
              "      <td>8</td>\n",
              "      <td>302.0</td>\n",
              "      <td>140.0</td>\n",
              "      <td>3449</td>\n",
              "      <td>10.5</td>\n",
              "      <td>70</td>\n",
              "      <td>usa</td>\n",
              "      <td>ford torino</td>\n",
              "    </tr>\n",
              "    <tr>\n",
              "      <th>...</th>\n",
              "      <td>...</td>\n",
              "      <td>...</td>\n",
              "      <td>...</td>\n",
              "      <td>...</td>\n",
              "      <td>...</td>\n",
              "      <td>...</td>\n",
              "      <td>...</td>\n",
              "      <td>...</td>\n",
              "      <td>...</td>\n",
              "    </tr>\n",
              "    <tr>\n",
              "      <th>393</th>\n",
              "      <td>27.0</td>\n",
              "      <td>4</td>\n",
              "      <td>140.0</td>\n",
              "      <td>86.0</td>\n",
              "      <td>2790</td>\n",
              "      <td>15.6</td>\n",
              "      <td>82</td>\n",
              "      <td>usa</td>\n",
              "      <td>ford mustang gl</td>\n",
              "    </tr>\n",
              "    <tr>\n",
              "      <th>394</th>\n",
              "      <td>44.0</td>\n",
              "      <td>4</td>\n",
              "      <td>97.0</td>\n",
              "      <td>52.0</td>\n",
              "      <td>2130</td>\n",
              "      <td>24.6</td>\n",
              "      <td>82</td>\n",
              "      <td>europe</td>\n",
              "      <td>vw pickup</td>\n",
              "    </tr>\n",
              "    <tr>\n",
              "      <th>395</th>\n",
              "      <td>32.0</td>\n",
              "      <td>4</td>\n",
              "      <td>135.0</td>\n",
              "      <td>84.0</td>\n",
              "      <td>2295</td>\n",
              "      <td>11.6</td>\n",
              "      <td>82</td>\n",
              "      <td>usa</td>\n",
              "      <td>dodge rampage</td>\n",
              "    </tr>\n",
              "    <tr>\n",
              "      <th>396</th>\n",
              "      <td>28.0</td>\n",
              "      <td>4</td>\n",
              "      <td>120.0</td>\n",
              "      <td>79.0</td>\n",
              "      <td>2625</td>\n",
              "      <td>18.6</td>\n",
              "      <td>82</td>\n",
              "      <td>usa</td>\n",
              "      <td>ford ranger</td>\n",
              "    </tr>\n",
              "    <tr>\n",
              "      <th>397</th>\n",
              "      <td>31.0</td>\n",
              "      <td>4</td>\n",
              "      <td>119.0</td>\n",
              "      <td>82.0</td>\n",
              "      <td>2720</td>\n",
              "      <td>19.4</td>\n",
              "      <td>82</td>\n",
              "      <td>usa</td>\n",
              "      <td>chevy s-10</td>\n",
              "    </tr>\n",
              "  </tbody>\n",
              "</table>\n",
              "<p>398 rows × 9 columns</p>\n",
              "</div>"
            ],
            "text/plain": [
              "      mpg  cylinders  ...  origin                       name\n",
              "0    18.0          8  ...     usa  chevrolet chevelle malibu\n",
              "1    15.0          8  ...     usa          buick skylark 320\n",
              "2    18.0          8  ...     usa         plymouth satellite\n",
              "3    16.0          8  ...     usa              amc rebel sst\n",
              "4    17.0          8  ...     usa                ford torino\n",
              "..    ...        ...  ...     ...                        ...\n",
              "393  27.0          4  ...     usa            ford mustang gl\n",
              "394  44.0          4  ...  europe                  vw pickup\n",
              "395  32.0          4  ...     usa              dodge rampage\n",
              "396  28.0          4  ...     usa                ford ranger\n",
              "397  31.0          4  ...     usa                 chevy s-10\n",
              "\n",
              "[398 rows x 9 columns]"
            ]
          },
          "metadata": {
            "tags": []
          },
          "execution_count": 3
        }
      ]
    },
    {
      "cell_type": "markdown",
      "metadata": {
        "id": "ZfIHIcZjqNSn",
        "colab_type": "text"
      },
      "source": [
        "Here we can see we have a few scalar variables we might want to explore using linear regressions.  We can try to predict acceleration using the horsepowewr or weight of the vehicle, or see if we can predict miles per gallon based on hosepower and acceleration.\n",
        "\n",
        "Let's start with a simple linear regression to predict acceleration based on weight as see how it goes.\n",
        "\n"
      ]
    },
    {
      "cell_type": "code",
      "metadata": {
        "id": "uTzmLqYtphEz",
        "colab_type": "code",
        "colab": {}
      },
      "source": [
        "mpg_dataset = sns.load_dataset('mpg')"
      ],
      "execution_count": null,
      "outputs": []
    },
    {
      "cell_type": "code",
      "metadata": {
        "id": "FibmlPrNrHV_",
        "colab_type": "code",
        "colab": {}
      },
      "source": [
        "x = mpg_dataset['weight']\n",
        "y = mpg_dataset['acceleration']"
      ],
      "execution_count": null,
      "outputs": []
    },
    {
      "cell_type": "code",
      "metadata": {
        "id": "8Wz3ZBIJrQkO",
        "colab_type": "code",
        "colab": {}
      },
      "source": [
        "from sklearn.linear_model import LinearRegression"
      ],
      "execution_count": null,
      "outputs": []
    },
    {
      "cell_type": "code",
      "metadata": {
        "id": "OLjIqn6hrrmD",
        "colab_type": "code",
        "colab": {
          "base_uri": "https://localhost:8080/",
          "height": 34
        },
        "outputId": "baaf65b2-cbaa-4c5a-b4b4-513d6e1e5e70"
      },
      "source": [
        "model = LinearRegression()\n",
        "print(model)"
      ],
      "execution_count": null,
      "outputs": [
        {
          "output_type": "stream",
          "text": [
            "LinearRegression(copy_X=True, fit_intercept=True, n_jobs=None, normalize=False)\n"
          ],
          "name": "stdout"
        }
      ]
    },
    {
      "cell_type": "code",
      "metadata": {
        "id": "bs96-xvDr6PD",
        "colab_type": "code",
        "colab": {
          "base_uri": "https://localhost:8080/",
          "height": 868
        },
        "outputId": "5517e7c1-1f62-44af-d15c-298c1b8c56d0"
      },
      "source": [
        "model.fit(x,y)"
      ],
      "execution_count": null,
      "outputs": [
        {
          "output_type": "error",
          "ename": "ValueError",
          "evalue": "ignored",
          "traceback": [
            "\u001b[0;31m---------------------------------------------------------------------------\u001b[0m",
            "\u001b[0;31mValueError\u001b[0m                                Traceback (most recent call last)",
            "\u001b[0;32m<ipython-input-9-cecb4634e72d>\u001b[0m in \u001b[0;36m<module>\u001b[0;34m()\u001b[0m\n\u001b[0;32m----> 1\u001b[0;31m \u001b[0mmodel\u001b[0m\u001b[0;34m.\u001b[0m\u001b[0mfit\u001b[0m\u001b[0;34m(\u001b[0m\u001b[0mx\u001b[0m\u001b[0;34m,\u001b[0m\u001b[0my\u001b[0m\u001b[0;34m)\u001b[0m\u001b[0;34m\u001b[0m\u001b[0;34m\u001b[0m\u001b[0m\n\u001b[0m",
            "\u001b[0;32m/usr/local/lib/python3.6/dist-packages/sklearn/linear_model/_base.py\u001b[0m in \u001b[0;36mfit\u001b[0;34m(self, X, y, sample_weight)\u001b[0m\n\u001b[1;32m    490\u001b[0m         \u001b[0mn_jobs_\u001b[0m \u001b[0;34m=\u001b[0m \u001b[0mself\u001b[0m\u001b[0;34m.\u001b[0m\u001b[0mn_jobs\u001b[0m\u001b[0;34m\u001b[0m\u001b[0;34m\u001b[0m\u001b[0m\n\u001b[1;32m    491\u001b[0m         X, y = check_X_y(X, y, accept_sparse=['csr', 'csc', 'coo'],\n\u001b[0;32m--> 492\u001b[0;31m                          y_numeric=True, multi_output=True)\n\u001b[0m\u001b[1;32m    493\u001b[0m \u001b[0;34m\u001b[0m\u001b[0m\n\u001b[1;32m    494\u001b[0m         \u001b[0;32mif\u001b[0m \u001b[0msample_weight\u001b[0m \u001b[0;32mis\u001b[0m \u001b[0;32mnot\u001b[0m \u001b[0;32mNone\u001b[0m\u001b[0;34m:\u001b[0m\u001b[0;34m\u001b[0m\u001b[0;34m\u001b[0m\u001b[0m\n",
            "\u001b[0;32m/usr/local/lib/python3.6/dist-packages/sklearn/utils/validation.py\u001b[0m in \u001b[0;36mcheck_X_y\u001b[0;34m(X, y, accept_sparse, accept_large_sparse, dtype, order, copy, force_all_finite, ensure_2d, allow_nd, multi_output, ensure_min_samples, ensure_min_features, y_numeric, warn_on_dtype, estimator)\u001b[0m\n\u001b[1;32m    753\u001b[0m                     \u001b[0mensure_min_features\u001b[0m\u001b[0;34m=\u001b[0m\u001b[0mensure_min_features\u001b[0m\u001b[0;34m,\u001b[0m\u001b[0;34m\u001b[0m\u001b[0;34m\u001b[0m\u001b[0m\n\u001b[1;32m    754\u001b[0m                     \u001b[0mwarn_on_dtype\u001b[0m\u001b[0;34m=\u001b[0m\u001b[0mwarn_on_dtype\u001b[0m\u001b[0;34m,\u001b[0m\u001b[0;34m\u001b[0m\u001b[0;34m\u001b[0m\u001b[0m\n\u001b[0;32m--> 755\u001b[0;31m                     estimator=estimator)\n\u001b[0m\u001b[1;32m    756\u001b[0m     \u001b[0;32mif\u001b[0m \u001b[0mmulti_output\u001b[0m\u001b[0;34m:\u001b[0m\u001b[0;34m\u001b[0m\u001b[0;34m\u001b[0m\u001b[0m\n\u001b[1;32m    757\u001b[0m         y = check_array(y, 'csr', force_all_finite=True, ensure_2d=False,\n",
            "\u001b[0;32m/usr/local/lib/python3.6/dist-packages/sklearn/utils/validation.py\u001b[0m in \u001b[0;36mcheck_array\u001b[0;34m(array, accept_sparse, accept_large_sparse, dtype, order, copy, force_all_finite, ensure_2d, allow_nd, ensure_min_samples, ensure_min_features, warn_on_dtype, estimator)\u001b[0m\n\u001b[1;32m    554\u001b[0m                     \u001b[0;34m\"Reshape your data either using array.reshape(-1, 1) if \"\u001b[0m\u001b[0;34m\u001b[0m\u001b[0;34m\u001b[0m\u001b[0m\n\u001b[1;32m    555\u001b[0m                     \u001b[0;34m\"your data has a single feature or array.reshape(1, -1) \"\u001b[0m\u001b[0;34m\u001b[0m\u001b[0;34m\u001b[0m\u001b[0m\n\u001b[0;32m--> 556\u001b[0;31m                     \"if it contains a single sample.\".format(array))\n\u001b[0m\u001b[1;32m    557\u001b[0m \u001b[0;34m\u001b[0m\u001b[0m\n\u001b[1;32m    558\u001b[0m         \u001b[0;31m# in the future np.flexible dtypes will be handled like object dtypes\u001b[0m\u001b[0;34m\u001b[0m\u001b[0;34m\u001b[0m\u001b[0;34m\u001b[0m\u001b[0m\n",
            "\u001b[0;31mValueError\u001b[0m: Expected 2D array, got 1D array instead:\narray=[3504 3693 3436 3433 3449 4341 4354 4312 4425 3850 3563 3609 3761 3086\n 2372 2833 2774 2587 2130 1835 2672 2430 2375 2234 2648 4615 4376 4382\n 4732 2130 2264 2228 2046 2634 3439 3329 3302 3288 4209 4464 4154 4096\n 4955 4746 5140 2962 2408 3282 3139 2220 2123 2074 2065 1773 1613 1834\n 1955 2278 2126 2254 2408 2226 4274 4385 4135 4129 3672 4633 4502 4456\n 4422 2330 3892 4098 4294 4077 2933 2511 2979 2189 2395 2288 2506 2164\n 2100 4100 3672 3988 4042 3777 4952 4464 4363 4237 4735 4951 3821 3121\n 3278 2945 3021 2904 1950 4997 4906 4654 4499 2789 2279 2401 2379 2124\n 2310 2472 2265 4082 4278 1867 2158 2582 2868 3399 2660 2807 3664 3102\n 2875 2901 3336 1950 2451 1836 2542 3781 3632 3613 4141 4699 4457 4638\n 4257 2219 1963 2300 1649 2003 2125 2108 2246 2489 2391 2000 3264 3459\n 3432 3158 4668 4440 4498 4657 3907 3897 3730 3785 3039 3221 3169 2171\n 2639 2914 2592 2702 2223 2545 2984 1937 3211 2694 2957 2945 2671 1795\n 2464 2220 2572 2255 2202 4215 4190 3962 4215 3233 3353 3012 3085 2035\n 2164 1937 1795 3651 3574 3645 3193 1825 1990 2155 2565 3150 3940 3270\n 2930 3820 4380 4055 3870 3755 2045 2155 1825 2300 1945 3880 4060 4140\n 4295 3520 3425 3630 3525 4220 4165 4325 4335 1940 2740 2265 2755 2051\n 2075 1985 2190 2815 2600 2720 1985 1800 1985 2070 1800 3365 3735 3570\n 3535 3155 2965 2720 3430 3210 3380 3070 3620 3410 3425 3445 3205 4080\n 2155 2560 2300 2230 2515 2745 2855 2405 2830 3140 2795 3410 1990 2135\n 3245 2990 2890 3265 3360 3840 3725 3955 3830 4360 4054 3605 3940 1925\n 1975 1915 2670 3530 3900 3190 3420 2200 2150 2020 2130 2670 2595 2700\n 2556 2144 1968 2120 2019 2678 2870 3003 3381 2188 2711 2542 2434 2265\n 2110 2800 2110 2085 2335 2950 3250 1850 1835 2145 1845 2910 2420 2500\n 2905 2290 2490 2635 2620 2725 2385 1755 1875 1760 2065 1975 2050 1985\n 2215 2045 2380 2190 2320 2210 2350 2615 2635 3230 3160 2900 2930 3415\n 3725 3060 3465 2605 2640 2395 2575 2525 2735 2865 3035 1980 2025 1970\n 2125 2125 2160 2205 2245 1965 1965 1995 2945 3015 2585 2835 2665 2370\n 2950 2790 2130 2295 2625 2720].\nReshape your data either using array.reshape(-1, 1) if your data has a single feature or array.reshape(1, -1) if it contains a single sample."
          ]
        }
      ]
    },
    {
      "cell_type": "code",
      "metadata": {
        "id": "vy9Jmsz8sJgS",
        "colab_type": "code",
        "colab": {}
      },
      "source": [
        "x = mpg_dataset[['weight']]\n",
        "# It turns out for some reason one of the variables has to be two-dimensional for this function to work..."
      ],
      "execution_count": null,
      "outputs": []
    },
    {
      "cell_type": "code",
      "metadata": {
        "id": "eESKbxJZscp3",
        "colab_type": "code",
        "colab": {
          "base_uri": "https://localhost:8080/",
          "height": 255
        },
        "outputId": "f75a1977-1759-4d95-d42b-1552abffcf19"
      },
      "source": [
        "print(x)"
      ],
      "execution_count": null,
      "outputs": [
        {
          "output_type": "stream",
          "text": [
            "     weight\n",
            "0      3504\n",
            "1      3693\n",
            "2      3436\n",
            "3      3433\n",
            "4      3449\n",
            "..      ...\n",
            "393    2790\n",
            "394    2130\n",
            "395    2295\n",
            "396    2625\n",
            "397    2720\n",
            "\n",
            "[398 rows x 1 columns]\n"
          ],
          "name": "stdout"
        }
      ]
    },
    {
      "cell_type": "code",
      "metadata": {
        "id": "_qpav615sd7Q",
        "colab_type": "code",
        "colab": {
          "base_uri": "https://localhost:8080/",
          "height": 34
        },
        "outputId": "a513ef2e-e11b-4719-d7ff-5126eb6eb585"
      },
      "source": [
        "model.fit(x,y)"
      ],
      "execution_count": null,
      "outputs": [
        {
          "output_type": "execute_result",
          "data": {
            "text/plain": [
              "LinearRegression(copy_X=True, fit_intercept=True, n_jobs=None, normalize=False)"
            ]
          },
          "metadata": {
            "tags": []
          },
          "execution_count": 12
        }
      ]
    },
    {
      "cell_type": "markdown",
      "metadata": {
        "id": "3DAwKhUwspMU",
        "colab_type": "text"
      },
      "source": [
        "Ok now we've \"fit\" the model, meaning it already did the work of calculating the sum of squares for x and y and determining the slope and y-intercept.  Now we need to get the coefficient of determination (𝑅²) value to find out how well the model fit the data.  *This is actually Pearson's R... It's the correlation between the predicted values (along the line) and the actual values from the data points.* \n",
        "> In stats we use square the R for any correlation to try to answer the question of how well x can predict y, or more specifically: **\"What percentage of the variance in y can be explained by x?\"**  (As you can imagine, this is a very practical question in data science)."
      ]
    },
    {
      "cell_type": "code",
      "metadata": {
        "id": "fWcuBe1Ssf_c",
        "colab_type": "code",
        "colab": {
          "base_uri": "https://localhost:8080/",
          "height": 34
        },
        "outputId": "abd1a2b1-e516-4e1c-8387-17ea9da6bba6"
      },
      "source": [
        "model_r_squared = model.score(x,y)\n",
        "print (model_r_squared)"
      ],
      "execution_count": null,
      "outputs": [
        {
          "output_type": "stream",
          "text": [
            "0.1742706139718161\n"
          ],
          "name": "stdout"
        }
      ]
    },
    {
      "cell_type": "markdown",
      "metadata": {
        "id": "mw3gGRrjuRKN",
        "colab_type": "text"
      },
      "source": [
        "Ooook so this tells us we didn't do so well actually... Only 17% of the value of y is explained by x.  There are clearly other important factors at play.\n",
        "\n",
        "Imagining we did do well, if we wanted to find out the y-intercept and slope of the line, we can use:"
      ]
    },
    {
      "cell_type": "code",
      "metadata": {
        "id": "SQL_RWekuPeF",
        "colab_type": "code",
        "colab": {
          "base_uri": "https://localhost:8080/",
          "height": 51
        },
        "outputId": "0dba56b5-6678-4099-9c88-ffaddfa790ce"
      },
      "source": [
        "print('intercept:', model.intercept_)\n",
        "print('slope:', model.coef_)"
      ],
      "execution_count": null,
      "outputs": [
        {
          "output_type": "stream",
          "text": [
            "intercept: 19.606158370537578\n",
            "slope: [-0.00135942]\n"
          ],
          "name": "stdout"
        }
      ]
    },
    {
      "cell_type": "markdown",
      "metadata": {
        "id": "COTFClGhu3PN",
        "colab_type": "text"
      },
      "source": [
        "This tells us that if the weight were zero (impossible anyways) that the acceleration (based on this simple linear model) would be 19.6 and that as weight increases, the acceleration decreases by .0014 per unit of x."
      ]
    },
    {
      "cell_type": "markdown",
      "metadata": {
        "id": "2mEmUBFnvVDs",
        "colab_type": "text"
      },
      "source": [
        "Since the model didn't do so well, maybe we should try a multilinear regression before making any predictions:"
      ]
    },
    {
      "cell_type": "markdown",
      "metadata": {
        "id": "FL7BXRNSwAyY",
        "colab_type": "text"
      },
      "source": [
        "##**Multiple Linear Regression**\n",
        "Here is the same as above with a line except the x variable will now have two columns (two different x's to work with).  Also so you understand, here's the formula:\n",
        "\n",
        "![alt text](https://drive.google.com/uc?id=1K3qomnWnF0ylOWcmaJLlA4MCQSvxrclH)\n",
        "\n",
        "> *Each of the values we were considering to be \"slope\" can also be considered \"weights\" for how much each x affects y.*\n",
        "\n",
        "In terms of python, it's simple to implement:\n",
        "\n"
      ]
    },
    {
      "cell_type": "code",
      "metadata": {
        "id": "a7_yijcMu1R5",
        "colab_type": "code",
        "colab": {
          "base_uri": "https://localhost:8080/",
          "height": 139
        },
        "outputId": "68885ee5-034d-4809-ce3f-588e1b76dd47"
      },
      "source": [
        "# Let's create a model to predict acceleration based on weight and horsepower.\n",
        "# We just need to add a column to x:\n",
        "\n",
        "x['horsepower'] = mpg_dataset['horsepower'].copy()"
      ],
      "execution_count": null,
      "outputs": [
        {
          "output_type": "stream",
          "text": [
            "/usr/local/lib/python3.6/dist-packages/ipykernel_launcher.py:4: SettingWithCopyWarning: \n",
            "A value is trying to be set on a copy of a slice from a DataFrame.\n",
            "Try using .loc[row_indexer,col_indexer] = value instead\n",
            "\n",
            "See the caveats in the documentation: https://pandas.pydata.org/pandas-docs/stable/user_guide/indexing.html#returning-a-view-versus-a-copy\n",
            "  after removing the cwd from sys.path.\n"
          ],
          "name": "stderr"
        }
      ]
    },
    {
      "cell_type": "code",
      "metadata": {
        "id": "4dRIZ3Mfy5JJ",
        "colab_type": "code",
        "colab": {
          "base_uri": "https://localhost:8080/",
          "height": 34
        },
        "outputId": "253f11f6-b3bd-475e-c750-2b1afd9095bd"
      },
      "source": [
        "print(type(x))"
      ],
      "execution_count": null,
      "outputs": [
        {
          "output_type": "stream",
          "text": [
            "<class 'pandas.core.frame.DataFrame'>\n"
          ],
          "name": "stdout"
        }
      ]
    },
    {
      "cell_type": "code",
      "metadata": {
        "id": "NiEYvtYkzA2b",
        "colab_type": "code",
        "colab": {
          "base_uri": "https://localhost:8080/",
          "height": 255
        },
        "outputId": "c21d1cf0-1c9b-47fe-e139-5c2c4f65477d"
      },
      "source": [
        "print(x)"
      ],
      "execution_count": null,
      "outputs": [
        {
          "output_type": "stream",
          "text": [
            "     weight  horsepower\n",
            "0      3504       130.0\n",
            "1      3693       165.0\n",
            "2      3436       150.0\n",
            "3      3433       150.0\n",
            "4      3449       140.0\n",
            "..      ...         ...\n",
            "393    2790        86.0\n",
            "394    2130        52.0\n",
            "395    2295        84.0\n",
            "396    2625        79.0\n",
            "397    2720        82.0\n",
            "\n",
            "[398 rows x 2 columns]\n"
          ],
          "name": "stdout"
        }
      ]
    },
    {
      "cell_type": "code",
      "metadata": {
        "id": "9F4tZQcpzpMh",
        "colab_type": "code",
        "colab": {
          "base_uri": "https://localhost:8080/",
          "height": 307
        },
        "outputId": "99b6537e-ad18-4d0d-8325-b04e9672fb69"
      },
      "source": [
        "model_weight_hp = LinearRegression().fit(x,y)"
      ],
      "execution_count": null,
      "outputs": [
        {
          "output_type": "error",
          "ename": "ValueError",
          "evalue": "ignored",
          "traceback": [
            "\u001b[0;31m---------------------------------------------------------------------------\u001b[0m",
            "\u001b[0;31mValueError\u001b[0m                                Traceback (most recent call last)",
            "\u001b[0;32m<ipython-input-18-93698c4880cd>\u001b[0m in \u001b[0;36m<module>\u001b[0;34m()\u001b[0m\n\u001b[0;32m----> 1\u001b[0;31m \u001b[0mmodel_weight_hp\u001b[0m \u001b[0;34m=\u001b[0m \u001b[0mLinearRegression\u001b[0m\u001b[0;34m(\u001b[0m\u001b[0;34m)\u001b[0m\u001b[0;34m.\u001b[0m\u001b[0mfit\u001b[0m\u001b[0;34m(\u001b[0m\u001b[0mx\u001b[0m\u001b[0;34m,\u001b[0m\u001b[0my\u001b[0m\u001b[0;34m)\u001b[0m\u001b[0;34m\u001b[0m\u001b[0;34m\u001b[0m\u001b[0m\n\u001b[0m",
            "\u001b[0;32m/usr/local/lib/python3.6/dist-packages/sklearn/linear_model/_base.py\u001b[0m in \u001b[0;36mfit\u001b[0;34m(self, X, y, sample_weight)\u001b[0m\n\u001b[1;32m    490\u001b[0m         \u001b[0mn_jobs_\u001b[0m \u001b[0;34m=\u001b[0m \u001b[0mself\u001b[0m\u001b[0;34m.\u001b[0m\u001b[0mn_jobs\u001b[0m\u001b[0;34m\u001b[0m\u001b[0;34m\u001b[0m\u001b[0m\n\u001b[1;32m    491\u001b[0m         X, y = check_X_y(X, y, accept_sparse=['csr', 'csc', 'coo'],\n\u001b[0;32m--> 492\u001b[0;31m                          y_numeric=True, multi_output=True)\n\u001b[0m\u001b[1;32m    493\u001b[0m \u001b[0;34m\u001b[0m\u001b[0m\n\u001b[1;32m    494\u001b[0m         \u001b[0;32mif\u001b[0m \u001b[0msample_weight\u001b[0m \u001b[0;32mis\u001b[0m \u001b[0;32mnot\u001b[0m \u001b[0;32mNone\u001b[0m\u001b[0;34m:\u001b[0m\u001b[0;34m\u001b[0m\u001b[0;34m\u001b[0m\u001b[0m\n",
            "\u001b[0;32m/usr/local/lib/python3.6/dist-packages/sklearn/utils/validation.py\u001b[0m in \u001b[0;36mcheck_X_y\u001b[0;34m(X, y, accept_sparse, accept_large_sparse, dtype, order, copy, force_all_finite, ensure_2d, allow_nd, multi_output, ensure_min_samples, ensure_min_features, y_numeric, warn_on_dtype, estimator)\u001b[0m\n\u001b[1;32m    753\u001b[0m                     \u001b[0mensure_min_features\u001b[0m\u001b[0;34m=\u001b[0m\u001b[0mensure_min_features\u001b[0m\u001b[0;34m,\u001b[0m\u001b[0;34m\u001b[0m\u001b[0;34m\u001b[0m\u001b[0m\n\u001b[1;32m    754\u001b[0m                     \u001b[0mwarn_on_dtype\u001b[0m\u001b[0;34m=\u001b[0m\u001b[0mwarn_on_dtype\u001b[0m\u001b[0;34m,\u001b[0m\u001b[0;34m\u001b[0m\u001b[0;34m\u001b[0m\u001b[0m\n\u001b[0;32m--> 755\u001b[0;31m                     estimator=estimator)\n\u001b[0m\u001b[1;32m    756\u001b[0m     \u001b[0;32mif\u001b[0m \u001b[0mmulti_output\u001b[0m\u001b[0;34m:\u001b[0m\u001b[0;34m\u001b[0m\u001b[0;34m\u001b[0m\u001b[0m\n\u001b[1;32m    757\u001b[0m         y = check_array(y, 'csr', force_all_finite=True, ensure_2d=False,\n",
            "\u001b[0;32m/usr/local/lib/python3.6/dist-packages/sklearn/utils/validation.py\u001b[0m in \u001b[0;36mcheck_array\u001b[0;34m(array, accept_sparse, accept_large_sparse, dtype, order, copy, force_all_finite, ensure_2d, allow_nd, ensure_min_samples, ensure_min_features, warn_on_dtype, estimator)\u001b[0m\n\u001b[1;32m    576\u001b[0m         \u001b[0;32mif\u001b[0m \u001b[0mforce_all_finite\u001b[0m\u001b[0;34m:\u001b[0m\u001b[0;34m\u001b[0m\u001b[0;34m\u001b[0m\u001b[0m\n\u001b[1;32m    577\u001b[0m             _assert_all_finite(array,\n\u001b[0;32m--> 578\u001b[0;31m                                allow_nan=force_all_finite == 'allow-nan')\n\u001b[0m\u001b[1;32m    579\u001b[0m \u001b[0;34m\u001b[0m\u001b[0m\n\u001b[1;32m    580\u001b[0m     \u001b[0;32mif\u001b[0m \u001b[0mensure_min_samples\u001b[0m \u001b[0;34m>\u001b[0m \u001b[0;36m0\u001b[0m\u001b[0;34m:\u001b[0m\u001b[0;34m\u001b[0m\u001b[0;34m\u001b[0m\u001b[0m\n",
            "\u001b[0;32m/usr/local/lib/python3.6/dist-packages/sklearn/utils/validation.py\u001b[0m in \u001b[0;36m_assert_all_finite\u001b[0;34m(X, allow_nan, msg_dtype)\u001b[0m\n\u001b[1;32m     58\u001b[0m                     \u001b[0mmsg_err\u001b[0m\u001b[0;34m.\u001b[0m\u001b[0mformat\u001b[0m\u001b[0;34m\u001b[0m\u001b[0;34m\u001b[0m\u001b[0m\n\u001b[1;32m     59\u001b[0m                     (type_err,\n\u001b[0;32m---> 60\u001b[0;31m                      msg_dtype if msg_dtype is not None else X.dtype)\n\u001b[0m\u001b[1;32m     61\u001b[0m             )\n\u001b[1;32m     62\u001b[0m     \u001b[0;31m# for object dtype data, we only check for NaNs (GH-13254)\u001b[0m\u001b[0;34m\u001b[0m\u001b[0;34m\u001b[0m\u001b[0;34m\u001b[0m\u001b[0m\n",
            "\u001b[0;31mValueError\u001b[0m: Input contains NaN, infinity or a value too large for dtype('float64')."
          ]
        }
      ]
    },
    {
      "cell_type": "code",
      "metadata": {
        "id": "z7ljYo45z6-N",
        "colab_type": "code",
        "colab": {}
      },
      "source": [
        "# We didn't clean the data... lets see..."
      ],
      "execution_count": null,
      "outputs": []
    },
    {
      "cell_type": "code",
      "metadata": {
        "id": "eVsLcKkf0CYx",
        "colab_type": "code",
        "colab": {
          "base_uri": "https://localhost:8080/",
          "height": 170
        },
        "outputId": "762175dc-a14f-4b59-ba17-0742b2897573"
      },
      "source": [
        "x.info()"
      ],
      "execution_count": null,
      "outputs": [
        {
          "output_type": "stream",
          "text": [
            "<class 'pandas.core.frame.DataFrame'>\n",
            "RangeIndex: 398 entries, 0 to 397\n",
            "Data columns (total 2 columns):\n",
            " #   Column      Non-Null Count  Dtype  \n",
            "---  ------      --------------  -----  \n",
            " 0   weight      398 non-null    int64  \n",
            " 1   horsepower  392 non-null    float64\n",
            "dtypes: float64(1), int64(1)\n",
            "memory usage: 6.3 KB\n"
          ],
          "name": "stdout"
        }
      ]
    },
    {
      "cell_type": "code",
      "metadata": {
        "id": "FirhoHNa0FQG",
        "colab_type": "code",
        "colab": {
          "base_uri": "https://localhost:8080/",
          "height": 297
        },
        "outputId": "0b469dc9-c7f8-4235-8f46-34f0d18010ca"
      },
      "source": [
        "x.describe()"
      ],
      "execution_count": null,
      "outputs": [
        {
          "output_type": "execute_result",
          "data": {
            "text/html": [
              "<div>\n",
              "<style scoped>\n",
              "    .dataframe tbody tr th:only-of-type {\n",
              "        vertical-align: middle;\n",
              "    }\n",
              "\n",
              "    .dataframe tbody tr th {\n",
              "        vertical-align: top;\n",
              "    }\n",
              "\n",
              "    .dataframe thead th {\n",
              "        text-align: right;\n",
              "    }\n",
              "</style>\n",
              "<table border=\"1\" class=\"dataframe\">\n",
              "  <thead>\n",
              "    <tr style=\"text-align: right;\">\n",
              "      <th></th>\n",
              "      <th>weight</th>\n",
              "      <th>horsepower</th>\n",
              "    </tr>\n",
              "  </thead>\n",
              "  <tbody>\n",
              "    <tr>\n",
              "      <th>count</th>\n",
              "      <td>398.000000</td>\n",
              "      <td>392.000000</td>\n",
              "    </tr>\n",
              "    <tr>\n",
              "      <th>mean</th>\n",
              "      <td>2970.424623</td>\n",
              "      <td>104.469388</td>\n",
              "    </tr>\n",
              "    <tr>\n",
              "      <th>std</th>\n",
              "      <td>846.841774</td>\n",
              "      <td>38.491160</td>\n",
              "    </tr>\n",
              "    <tr>\n",
              "      <th>min</th>\n",
              "      <td>1613.000000</td>\n",
              "      <td>46.000000</td>\n",
              "    </tr>\n",
              "    <tr>\n",
              "      <th>25%</th>\n",
              "      <td>2223.750000</td>\n",
              "      <td>75.000000</td>\n",
              "    </tr>\n",
              "    <tr>\n",
              "      <th>50%</th>\n",
              "      <td>2803.500000</td>\n",
              "      <td>93.500000</td>\n",
              "    </tr>\n",
              "    <tr>\n",
              "      <th>75%</th>\n",
              "      <td>3608.000000</td>\n",
              "      <td>126.000000</td>\n",
              "    </tr>\n",
              "    <tr>\n",
              "      <th>max</th>\n",
              "      <td>5140.000000</td>\n",
              "      <td>230.000000</td>\n",
              "    </tr>\n",
              "  </tbody>\n",
              "</table>\n",
              "</div>"
            ],
            "text/plain": [
              "            weight  horsepower\n",
              "count   398.000000  392.000000\n",
              "mean   2970.424623  104.469388\n",
              "std     846.841774   38.491160\n",
              "min    1613.000000   46.000000\n",
              "25%    2223.750000   75.000000\n",
              "50%    2803.500000   93.500000\n",
              "75%    3608.000000  126.000000\n",
              "max    5140.000000  230.000000"
            ]
          },
          "metadata": {
            "tags": []
          },
          "execution_count": 21
        }
      ]
    },
    {
      "cell_type": "code",
      "metadata": {
        "id": "qXNTAWCE0Vt4",
        "colab_type": "code",
        "colab": {
          "base_uri": "https://localhost:8080/",
          "height": 68
        },
        "outputId": "5183109a-bb73-4627-94bd-facd8ffff78a"
      },
      "source": [
        "x.count()"
      ],
      "execution_count": null,
      "outputs": [
        {
          "output_type": "execute_result",
          "data": {
            "text/plain": [
              "weight        398\n",
              "horsepower    392\n",
              "dtype: int64"
            ]
          },
          "metadata": {
            "tags": []
          },
          "execution_count": 22
        }
      ]
    },
    {
      "cell_type": "code",
      "metadata": {
        "id": "Zk2WviCo0m5F",
        "colab_type": "code",
        "colab": {}
      },
      "source": [
        "mpg_dataset.dropna(inplace=True)"
      ],
      "execution_count": null,
      "outputs": []
    },
    {
      "cell_type": "code",
      "metadata": {
        "id": "yEQCyOuC03SU",
        "colab_type": "code",
        "colab": {
          "base_uri": "https://localhost:8080/",
          "height": 187
        },
        "outputId": "42b14d0c-ed98-4cbc-c44e-7e9ae62db2e4"
      },
      "source": [
        "mpg_dataset.count()"
      ],
      "execution_count": null,
      "outputs": [
        {
          "output_type": "execute_result",
          "data": {
            "text/plain": [
              "mpg             392\n",
              "cylinders       392\n",
              "displacement    392\n",
              "horsepower      392\n",
              "weight          392\n",
              "acceleration    392\n",
              "model_year      392\n",
              "origin          392\n",
              "name            392\n",
              "dtype: int64"
            ]
          },
          "metadata": {
            "tags": []
          },
          "execution_count": 32
        }
      ]
    },
    {
      "cell_type": "code",
      "metadata": {
        "id": "IzmoJlW-1C6D",
        "colab_type": "code",
        "colab": {
          "base_uri": "https://localhost:8080/",
          "height": 307
        },
        "outputId": "e035cd81-e04c-4963-f5d9-0126c24a8a19"
      },
      "source": [
        "model_weight_hp = LinearRegression().fit(x,y)"
      ],
      "execution_count": null,
      "outputs": [
        {
          "output_type": "error",
          "ename": "ValueError",
          "evalue": "ignored",
          "traceback": [
            "\u001b[0;31m---------------------------------------------------------------------------\u001b[0m",
            "\u001b[0;31mValueError\u001b[0m                                Traceback (most recent call last)",
            "\u001b[0;32m<ipython-input-33-93698c4880cd>\u001b[0m in \u001b[0;36m<module>\u001b[0;34m()\u001b[0m\n\u001b[0;32m----> 1\u001b[0;31m \u001b[0mmodel_weight_hp\u001b[0m \u001b[0;34m=\u001b[0m \u001b[0mLinearRegression\u001b[0m\u001b[0;34m(\u001b[0m\u001b[0;34m)\u001b[0m\u001b[0;34m.\u001b[0m\u001b[0mfit\u001b[0m\u001b[0;34m(\u001b[0m\u001b[0mx\u001b[0m\u001b[0;34m,\u001b[0m\u001b[0my\u001b[0m\u001b[0;34m)\u001b[0m\u001b[0;34m\u001b[0m\u001b[0;34m\u001b[0m\u001b[0m\n\u001b[0m",
            "\u001b[0;32m/usr/local/lib/python3.6/dist-packages/sklearn/linear_model/_base.py\u001b[0m in \u001b[0;36mfit\u001b[0;34m(self, X, y, sample_weight)\u001b[0m\n\u001b[1;32m    490\u001b[0m         \u001b[0mn_jobs_\u001b[0m \u001b[0;34m=\u001b[0m \u001b[0mself\u001b[0m\u001b[0;34m.\u001b[0m\u001b[0mn_jobs\u001b[0m\u001b[0;34m\u001b[0m\u001b[0;34m\u001b[0m\u001b[0m\n\u001b[1;32m    491\u001b[0m         X, y = check_X_y(X, y, accept_sparse=['csr', 'csc', 'coo'],\n\u001b[0;32m--> 492\u001b[0;31m                          y_numeric=True, multi_output=True)\n\u001b[0m\u001b[1;32m    493\u001b[0m \u001b[0;34m\u001b[0m\u001b[0m\n\u001b[1;32m    494\u001b[0m         \u001b[0;32mif\u001b[0m \u001b[0msample_weight\u001b[0m \u001b[0;32mis\u001b[0m \u001b[0;32mnot\u001b[0m \u001b[0;32mNone\u001b[0m\u001b[0;34m:\u001b[0m\u001b[0;34m\u001b[0m\u001b[0;34m\u001b[0m\u001b[0m\n",
            "\u001b[0;32m/usr/local/lib/python3.6/dist-packages/sklearn/utils/validation.py\u001b[0m in \u001b[0;36mcheck_X_y\u001b[0;34m(X, y, accept_sparse, accept_large_sparse, dtype, order, copy, force_all_finite, ensure_2d, allow_nd, multi_output, ensure_min_samples, ensure_min_features, y_numeric, warn_on_dtype, estimator)\u001b[0m\n\u001b[1;32m    753\u001b[0m                     \u001b[0mensure_min_features\u001b[0m\u001b[0;34m=\u001b[0m\u001b[0mensure_min_features\u001b[0m\u001b[0;34m,\u001b[0m\u001b[0;34m\u001b[0m\u001b[0;34m\u001b[0m\u001b[0m\n\u001b[1;32m    754\u001b[0m                     \u001b[0mwarn_on_dtype\u001b[0m\u001b[0;34m=\u001b[0m\u001b[0mwarn_on_dtype\u001b[0m\u001b[0;34m,\u001b[0m\u001b[0;34m\u001b[0m\u001b[0;34m\u001b[0m\u001b[0m\n\u001b[0;32m--> 755\u001b[0;31m                     estimator=estimator)\n\u001b[0m\u001b[1;32m    756\u001b[0m     \u001b[0;32mif\u001b[0m \u001b[0mmulti_output\u001b[0m\u001b[0;34m:\u001b[0m\u001b[0;34m\u001b[0m\u001b[0;34m\u001b[0m\u001b[0m\n\u001b[1;32m    757\u001b[0m         y = check_array(y, 'csr', force_all_finite=True, ensure_2d=False,\n",
            "\u001b[0;32m/usr/local/lib/python3.6/dist-packages/sklearn/utils/validation.py\u001b[0m in \u001b[0;36mcheck_array\u001b[0;34m(array, accept_sparse, accept_large_sparse, dtype, order, copy, force_all_finite, ensure_2d, allow_nd, ensure_min_samples, ensure_min_features, warn_on_dtype, estimator)\u001b[0m\n\u001b[1;32m    576\u001b[0m         \u001b[0;32mif\u001b[0m \u001b[0mforce_all_finite\u001b[0m\u001b[0;34m:\u001b[0m\u001b[0;34m\u001b[0m\u001b[0;34m\u001b[0m\u001b[0m\n\u001b[1;32m    577\u001b[0m             _assert_all_finite(array,\n\u001b[0;32m--> 578\u001b[0;31m                                allow_nan=force_all_finite == 'allow-nan')\n\u001b[0m\u001b[1;32m    579\u001b[0m \u001b[0;34m\u001b[0m\u001b[0m\n\u001b[1;32m    580\u001b[0m     \u001b[0;32mif\u001b[0m \u001b[0mensure_min_samples\u001b[0m \u001b[0;34m>\u001b[0m \u001b[0;36m0\u001b[0m\u001b[0;34m:\u001b[0m\u001b[0;34m\u001b[0m\u001b[0;34m\u001b[0m\u001b[0m\n",
            "\u001b[0;32m/usr/local/lib/python3.6/dist-packages/sklearn/utils/validation.py\u001b[0m in \u001b[0;36m_assert_all_finite\u001b[0;34m(X, allow_nan, msg_dtype)\u001b[0m\n\u001b[1;32m     58\u001b[0m                     \u001b[0mmsg_err\u001b[0m\u001b[0;34m.\u001b[0m\u001b[0mformat\u001b[0m\u001b[0;34m\u001b[0m\u001b[0;34m\u001b[0m\u001b[0m\n\u001b[1;32m     59\u001b[0m                     (type_err,\n\u001b[0;32m---> 60\u001b[0;31m                      msg_dtype if msg_dtype is not None else X.dtype)\n\u001b[0m\u001b[1;32m     61\u001b[0m             )\n\u001b[1;32m     62\u001b[0m     \u001b[0;31m# for object dtype data, we only check for NaNs (GH-13254)\u001b[0m\u001b[0;34m\u001b[0m\u001b[0;34m\u001b[0m\u001b[0;34m\u001b[0m\u001b[0m\n",
            "\u001b[0;31mValueError\u001b[0m: Input contains NaN, infinity or a value too large for dtype('float64')."
          ]
        }
      ]
    },
    {
      "cell_type": "code",
      "metadata": {
        "id": "4nw64jKb1Gt-",
        "colab_type": "code",
        "colab": {
          "base_uri": "https://localhost:8080/",
          "height": 34
        },
        "outputId": "3aee4df4-e6ad-4dbf-8a89-66748083ce88"
      },
      "source": [
        "y = mpg_dataset['acceleration']\n",
        "y.count()"
      ],
      "execution_count": null,
      "outputs": [
        {
          "output_type": "execute_result",
          "data": {
            "text/plain": [
              "392"
            ]
          },
          "metadata": {
            "tags": []
          },
          "execution_count": 39
        }
      ]
    },
    {
      "cell_type": "code",
      "metadata": {
        "id": "kQ6nGjbwvMiZ",
        "colab_type": "code",
        "colab": {
          "base_uri": "https://localhost:8080/",
          "height": 68
        },
        "outputId": "d620386d-ef8e-4790-f600-69e19d6bdf82"
      },
      "source": [
        "x.count()"
      ],
      "execution_count": null,
      "outputs": [
        {
          "output_type": "execute_result",
          "data": {
            "text/plain": [
              "weight        398\n",
              "horsepower    392\n",
              "dtype: int64"
            ]
          },
          "metadata": {
            "tags": []
          },
          "execution_count": 40
        }
      ]
    },
    {
      "cell_type": "code",
      "metadata": {
        "id": "ji-bPQ26vONs",
        "colab_type": "code",
        "colab": {
          "base_uri": "https://localhost:8080/",
          "height": 122
        },
        "outputId": "91c9a712-63e9-40dd-815a-1ec109a03501"
      },
      "source": [
        "x.dropna(inplace=True)"
      ],
      "execution_count": null,
      "outputs": [
        {
          "output_type": "stream",
          "text": [
            "/usr/local/lib/python3.6/dist-packages/ipykernel_launcher.py:1: SettingWithCopyWarning: \n",
            "A value is trying to be set on a copy of a slice from a DataFrame\n",
            "\n",
            "See the caveats in the documentation: https://pandas.pydata.org/pandas-docs/stable/user_guide/indexing.html#returning-a-view-versus-a-copy\n",
            "  \"\"\"Entry point for launching an IPython kernel.\n"
          ],
          "name": "stderr"
        }
      ]
    },
    {
      "cell_type": "code",
      "metadata": {
        "id": "4BVEkgGq1Lnk",
        "colab_type": "code",
        "colab": {}
      },
      "source": [
        "model_weight_hp = LinearRegression().fit(x,y)"
      ],
      "execution_count": null,
      "outputs": []
    },
    {
      "cell_type": "code",
      "metadata": {
        "id": "PFjEaHEi1NJg",
        "colab_type": "code",
        "colab": {}
      },
      "source": [
        "# Ok it worked...  Let's check the R-squared to see if it worked any better."
      ],
      "execution_count": null,
      "outputs": []
    },
    {
      "cell_type": "code",
      "metadata": {
        "id": "lxUUimts1PLp",
        "colab_type": "code",
        "colab": {
          "base_uri": "https://localhost:8080/",
          "height": 34
        },
        "outputId": "839462bc-324b-4a4c-fdb6-4831946f7126"
      },
      "source": [
        "model_r_squared = model_weight_hp.score(x,y)\n",
        "print(model_r_squared)"
      ],
      "execution_count": null,
      "outputs": [
        {
          "output_type": "stream",
          "text": [
            "0.6018428629812774\n"
          ],
          "name": "stdout"
        }
      ]
    },
    {
      "cell_type": "code",
      "metadata": {
        "id": "9nH-wttz1fl4",
        "colab_type": "code",
        "colab": {
          "base_uri": "https://localhost:8080/",
          "height": 51
        },
        "outputId": "4a976150-a3df-45a0-9923-465a3ca1d0f6"
      },
      "source": [
        "# Much much better!  Let's check out the intercept and slope.\n",
        "print('intercept:', model_weight_hp.intercept_)\n",
        "print('slope:', model_weight_hp.coef_)"
      ],
      "execution_count": null,
      "outputs": [
        {
          "output_type": "stream",
          "text": [
            "intercept: 18.435791163416614\n",
            "slope: [ 0.00230182 -0.09331277]\n"
          ],
          "name": "stdout"
        }
      ]
    },
    {
      "cell_type": "code",
      "metadata": {
        "id": "er3sdnQz1xfB",
        "colab_type": "code",
        "colab": {}
      },
      "source": [
        "# As you can see we now have two \"slopes\" for the two different x variables.\n",
        "# The weight one is going in the opposite direction as expected and is very low,\n",
        "# indicating it's probably garbage...  We could take it out and see optionally but\n",
        "# let's continue to learn python."
      ],
      "execution_count": null,
      "outputs": []
    },
    {
      "cell_type": "markdown",
      "metadata": {
        "id": "0GpGI6Cn2PUJ",
        "colab_type": "text"
      },
      "source": [
        "Great, now we can see what those predicted values for acceleration were:"
      ]
    },
    {
      "cell_type": "code",
      "metadata": {
        "id": "N0DiRhfs2Id1",
        "colab_type": "code",
        "colab": {
          "base_uri": "https://localhost:8080/",
          "height": 1000
        },
        "outputId": "11578d88-9339-4228-f2a8-0c62cf05a219"
      },
      "source": [
        "y_pred = model_weight_hp.predict(x)\n",
        "print('predicted accelerations:', y_pred, sep='\\n')"
      ],
      "execution_count": null,
      "outputs": [
        {
          "output_type": "stream",
          "text": [
            "predicted accelerations:\n",
            "[14.37070896 11.53980616 12.3479299  12.34102444 13.31098121  9.95206427\n",
            "  7.92910709  8.29899448  7.62597249  9.56837277 10.77400573 11.8130171\n",
            " 13.09602139  4.54383552 15.0309955  16.09213452 15.76970161 16.45901445\n",
            " 15.12714442 18.36724366 16.46804362 15.63106489 15.03790096 13.03371457\n",
            " 16.13286165  8.99644594  9.84600244  8.92668571 11.31863971 15.12714442\n",
            " 15.24896277 14.69953343 15.16750852 16.55390979 16.76727341 17.82487745\n",
            " 16.67289879 12.72754528 12.38138172 13.72069836 13.86713109 13.04501151\n",
            " 13.49705879 13.93741204 14.98937782 17.26005462 16.65908787 17.44968079\n",
            " 15.52093375 14.92440615 16.67787227 16.0972793  16.45158828 15.71004602\n",
            " 17.05856313 16.40395569 14.81462442 15.86443926 18.58520411 15.58042485\n",
            " 15.53474467 12.87716358 12.19953794 13.95690207 13.66315286 12.89115942\n",
            "  9.69106805 14.33510618 13.76265864 10.88501381 14.74769353 13.39755981\n",
            " 15.73799003 15.2560191  13.82339651 14.73599951 17.12389102 17.17470236\n",
            " 17.03589434 15.92375225 15.11758092 15.15281385 15.95190842 15.05808982\n",
            " 11.54351925 12.89115942 14.08509836 14.95589876 13.13285051 11.35847628\n",
            " 14.71420085 13.73521491 14.19168771  9.27266434  8.83672981 10.90131147\n",
            " 15.82193103 16.64988059 15.88337453 17.17806604 16.25556374 18.63195296\n",
            " 15.94107091 14.14528828 13.28529135 11.9953816  15.52429062 15.4701156\n",
            " 17.24394188 15.14042101 14.92670797 15.82141032 14.14142432 15.25126459\n",
            " 14.30146944  6.82104112 18.1609636  16.40466133 15.88762876 14.58638121\n",
            " 12.26276256 14.29422819 13.51284254 10.0733619  16.7113241  15.78209446\n",
            " 16.78338615 16.67238489 16.61253076 16.59660294 17.2885602  17.80769605\n",
            " 16.53159722 16.95442647 14.90384064 15.25512855 14.69808811 16.04784518\n",
            " 14.23772411 15.79857023 16.70230855 16.45158147 17.37922855 17.35425794\n",
            " 16.32870127 16.28957033 16.60722149 15.11368291 15.26135561 16.78747589\n",
            " 17.08421894 16.59994619 19.61711829 18.98641962 13.31751683 15.125521\n",
            " 14.79246273 15.34507764 17.16459772 17.60814334 16.75717558 18.28346715\n",
            " 15.16661796 15.5855492  13.69291203 16.43458499 16.76533462 15.81201812\n",
            " 17.12371291 15.69728334 16.92753069 15.24258483 16.25308381 16.36252293\n",
            " 17.4287863  15.77218154 17.03074956 16.07000007 13.85298438 17.6219815\n",
            " 16.08257783 15.98749758 15.7712978  16.25468681 15.75943929 15.07417532\n",
            " 14.08350217 16.35807017 13.95442214 16.54629869 16.35595327 17.81053901\n",
            " 17.13875698 18.26773107 17.81816372 16.36252293 17.6219815  17.50845945\n",
            " 19.38410014 16.56152088 16.92078972 16.01140633 16.48451939 16.39775587\n",
            " 17.62144036 16.1686221  13.50804717 17.75121921 15.10234511 16.03121173\n",
            " 11.72146502 14.2393203  15.21317508 13.08221047 16.79774502 15.93119204\n",
            " 17.22447228 14.7719517  16.38093749 13.8365018  17.51677618 14.434975\n",
            " 16.19144857 16.27379338 16.52168431 17.46012123 17.40505566 11.35317382\n",
            " 12.15970137 10.66173727 14.51057884 15.62292627 16.53125462 16.65095607\n",
            " 16.47246915 17.27811977 15.46710815 16.75294859 16.19838127 15.86407623\n",
            " 14.15611899 14.43233739 18.52589113 16.42042466 18.15264007 16.66866499\n",
            " 16.98030125 15.91701128 13.96930173 13.68281419 16.77488451 16.83332056\n",
            " 17.32910241 16.48521822 16.99975723 17.42648448 16.41810241 17.57079351\n",
            " 16.50397538 15.08746553 12.7891737  10.9689548  12.84264989 14.76342962\n",
            " 17.05094522 15.46373766 14.67863893 16.57039237 15.36015576 14.95644671\n",
            " 17.07590221 14.92033003 15.33872694 13.99941031 14.13841006 13.87439958\n",
            " 16.39120663 17.00490882 15.17422906 17.38664791 16.87652762 17.55308458\n",
            " 15.90550218 15.14412048 14.97272394 14.66232765 14.65453845 14.00824775\n",
            " 14.51695677 15.0697566  13.50804717 16.24158833 16.91655592 15.37875524\n",
            " 17.11662934 19.37613283 15.7487935  19.15339062 17.90986668 16.96790159\n",
            " 16.85281059 17.02013782 16.90008696 16.18350169 13.67804606 13.91973716\n",
            " 15.92109421 16.27912308 17.367007   16.78375599 17.017836   16.20191625\n",
            " 16.83049122 16.95000775 17.8200957  16.19377763 16.27787631 17.2885602\n",
            " 15.45364664 16.65095607 17.22730162 15.08304681 17.22730162 18.75607313\n",
            " 19.33152812 18.97420488 19.66475088 16.44220289 17.12123979 16.89725762\n",
            " 12.81680235 14.67491904 15.97881782 16.98843986 16.32905068 16.66281458\n",
            " 15.88178516 14.44384649 16.08735958 17.06334488 16.77968669 16.88822845\n",
            " 16.93709419 16.91655592 17.36913071 16.65963582 17.65561825 17.07768332\n",
            " 17.84879302 16.57163233 16.52435597 16.84661077 15.12377394 17.59594223\n",
            " 18.40564853 18.6177722  14.28678839 13.98259193 16.03210228 17.2122303\n",
            " 17.26783702 18.48001241 16.22050892 16.30107262 15.73712672 16.43139261\n",
            " 16.40961438 16.33311999 16.44573106 16.08825013 16.75170862 16.62510852\n",
            " 17.44845445 16.79526509 15.19619902 16.51284687 17.07148349 16.70691219\n",
            " 16.70691219 16.77596679 14.95024688 17.44419341 15.80122146 14.51042115\n",
            " 15.612116   16.05283228 16.82801129 16.83297115 18.48640396 15.88019578\n",
            " 17.1063602  17.04509481]\n"
          ],
          "name": "stdout"
        }
      ]
    },
    {
      "cell_type": "markdown",
      "metadata": {
        "id": "cNdbPNUX20oQ",
        "colab_type": "text"
      },
      "source": [
        "Just so you know, you normally would apply the prediction to new data... But yeah it's the same process.  (We should have split the data in half to begin with but I was running out of time)."
      ]
    },
    {
      "cell_type": "markdown",
      "metadata": {
        "id": "Y3ZhXsax3VPa",
        "colab_type": "text"
      },
      "source": [
        "##**Alternate Method: Using *statsmodels***\n",
        "There's another easily accessible module to do this that will give you more detailed data if desired:"
      ]
    },
    {
      "cell_type": "code",
      "metadata": {
        "id": "-OjnFUbW2nOe",
        "colab_type": "code",
        "colab": {}
      },
      "source": [
        "import statsmodels.api as sm"
      ],
      "execution_count": null,
      "outputs": []
    },
    {
      "cell_type": "code",
      "metadata": {
        "id": "akLIgDxT3lpa",
        "colab_type": "code",
        "colab": {}
      },
      "source": [
        "# For some reason statsmodels requires you to add a column of 1's to be able to\n",
        "# calculate the y-intercept... That's a little straight but perhaps it has to\n",
        "# to with weights?\n",
        "\n",
        "x = sm.add_constant(x)"
      ],
      "execution_count": null,
      "outputs": []
    },
    {
      "cell_type": "code",
      "metadata": {
        "id": "dB_3U54q3zKm",
        "colab_type": "code",
        "colab": {
          "base_uri": "https://localhost:8080/",
          "height": 255
        },
        "outputId": "4704a8e8-a244-4e48-d85f-4e16bfedc8cf"
      },
      "source": [
        "print(x)"
      ],
      "execution_count": null,
      "outputs": [
        {
          "output_type": "stream",
          "text": [
            "     const  weight  horsepower\n",
            "0      1.0    3504       130.0\n",
            "1      1.0    3693       165.0\n",
            "2      1.0    3436       150.0\n",
            "3      1.0    3433       150.0\n",
            "4      1.0    3449       140.0\n",
            "..     ...     ...         ...\n",
            "393    1.0    2790        86.0\n",
            "394    1.0    2130        52.0\n",
            "395    1.0    2295        84.0\n",
            "396    1.0    2625        79.0\n",
            "397    1.0    2720        82.0\n",
            "\n",
            "[392 rows x 3 columns]\n"
          ],
          "name": "stdout"
        }
      ]
    },
    {
      "cell_type": "code",
      "metadata": {
        "id": "GY7ejmR23__S",
        "colab_type": "code",
        "colab": {}
      },
      "source": [
        "new_model = sm.OLS(y, x)"
      ],
      "execution_count": null,
      "outputs": []
    },
    {
      "cell_type": "code",
      "metadata": {
        "id": "dF_j_tZs4KMu",
        "colab_type": "code",
        "colab": {}
      },
      "source": [
        "results = new_model.fit()"
      ],
      "execution_count": null,
      "outputs": []
    },
    {
      "cell_type": "code",
      "metadata": {
        "id": "II6G_7ez4MrD",
        "colab_type": "code",
        "colab": {
          "base_uri": "https://localhost:8080/",
          "height": 493
        },
        "outputId": "b622035c-32f3-4fcc-adb0-e0947279bb78"
      },
      "source": [
        "print(results.summary())"
      ],
      "execution_count": null,
      "outputs": [
        {
          "output_type": "stream",
          "text": [
            "                            OLS Regression Results                            \n",
            "==============================================================================\n",
            "Dep. Variable:           acceleration   R-squared:                       0.602\n",
            "Model:                            OLS   Adj. R-squared:                  0.600\n",
            "Method:                 Least Squares   F-statistic:                     294.0\n",
            "Date:                Sat, 08 Aug 2020   Prob (F-statistic):           1.62e-78\n",
            "Time:                        15:43:21   Log-Likelihood:                -773.03\n",
            "No. Observations:                 392   AIC:                             1552.\n",
            "Df Residuals:                     389   BIC:                             1564.\n",
            "Df Model:                           2                                         \n",
            "Covariance Type:            nonrobust                                         \n",
            "==============================================================================\n",
            "                 coef    std err          t      P>|t|      [0.025      0.975]\n",
            "------------------------------------------------------------------------------\n",
            "const         18.4358      0.326     56.467      0.000      17.794      19.078\n",
            "weight         0.0023      0.000     11.133      0.000       0.002       0.003\n",
            "horsepower    -0.0933      0.005    -20.451      0.000      -0.102      -0.084\n",
            "==============================================================================\n",
            "Omnibus:                       48.993   Durbin-Watson:                   1.648\n",
            "Prob(Omnibus):                  0.000   Jarque-Bera (JB):               73.156\n",
            "Skew:                           0.814   Prob(JB):                     1.30e-16\n",
            "Kurtosis:                       4.351   Cond. No.                     1.15e+04\n",
            "==============================================================================\n",
            "\n",
            "Warnings:\n",
            "[1] Standard Errors assume that the covariance matrix of the errors is correctly specified.\n",
            "[2] The condition number is large, 1.15e+04. This might indicate that there are\n",
            "strong multicollinearity or other numerical problems.\n"
          ],
          "name": "stdout"
        }
      ]
    },
    {
      "cell_type": "code",
      "metadata": {
        "id": "Dbc7SY7Y4qOn",
        "colab_type": "code",
        "colab": {}
      },
      "source": [
        "sns.set()"
      ],
      "execution_count": null,
      "outputs": []
    },
    {
      "cell_type": "code",
      "metadata": {
        "id": "YhtBYmW85Dec",
        "colab_type": "code",
        "colab": {
          "base_uri": "https://localhost:8080/",
          "height": 302
        },
        "outputId": "e17aebd6-79ab-4b64-c9f7-03220756fe51"
      },
      "source": [
        "sns.regplot(x='weight',y='acceleration',data=mpg_dataset)"
      ],
      "execution_count": null,
      "outputs": [
        {
          "output_type": "execute_result",
          "data": {
            "text/plain": [
              "<matplotlib.axes._subplots.AxesSubplot at 0x7ff0cdb27ac8>"
            ]
          },
          "metadata": {
            "tags": []
          },
          "execution_count": 55
        },
        {
          "output_type": "display_data",
          "data": {
            "image/png": "[encoded data removed]",
            "text/plain": [
              "<Figure size 432x288 with 1 Axes>"
            ]
          },
          "metadata": {
            "tags": []
          }
        }
      ]
    },
    {
      "cell_type": "code",
      "metadata": {
        "id": "XyOy81W451rf",
        "colab_type": "code",
        "colab": {
          "base_uri": "https://localhost:8080/",
          "height": 302
        },
        "outputId": "5027e82d-410f-4818-e673-eecb498db02e"
      },
      "source": [
        "sns.regplot(x='horsepower',y='acceleration',data=mpg_dataset)"
      ],
      "execution_count": null,
      "outputs": [
        {
          "output_type": "execute_result",
          "data": {
            "text/plain": [
              "<matplotlib.axes._subplots.AxesSubplot at 0x7ff0cdb17198>"
            ]
          },
          "metadata": {
            "tags": []
          },
          "execution_count": 56
        },
        {
          "output_type": "display_data",
          "data": {
            "image/png": "[encoded data removed]",
            "text/plain": [
              "<Figure size 432x288 with 1 Axes>"
            ]
          },
          "metadata": {
            "tags": []
          }
        }
      ]
    },
    {
      "cell_type": "code",
      "metadata": {
        "id": "Xc1g_1F-59ah",
        "colab_type": "code",
        "colab": {
          "base_uri": "https://localhost:8080/",
          "height": 454
        },
        "outputId": "7c448323-122c-4a62-b37c-8565896501fe"
      },
      "source": [
        "sns.jointplot(x=\"horsepower\", y=\"acceleration\", data=mpg_dataset, kind=\"reg\")"
      ],
      "execution_count": null,
      "outputs": [
        {
          "output_type": "execute_result",
          "data": {
            "text/plain": [
              "<seaborn.axisgrid.JointGrid at 0x7ff0cd5a4470>"
            ]
          },
          "metadata": {
            "tags": []
          },
          "execution_count": 57
        },
        {
          "output_type": "display_data",
          "data": {
            "image/png": "[encoded data removed]",
            "text/plain": [
              "<Figure size 432x432 with 3 Axes>"
            ]
          },
          "metadata": {
            "tags": []
          }
        }
      ]
    },
    {
      "cell_type": "markdown",
      "metadata": {
        "id": "esFJjRF_r_0U",
        "colab_type": "text"
      },
      "source": [
        "#**Real Example**\n",
        "Well I realized that in the above example we had a negative correlation with horsepower and acceleration... \n",
        "\n",
        "When I saw the significant relationship, I naiively assumed the relationship was in the appropriate direction.  Not sure that is wrong with the dataset (or perhaps I don't know enough about cars). \n",
        "\n",
        "\n",
        "Let's move onto one that definitely makes sense:\n",
        "\n",
        "## **Real Estate Example**\n",
        "Let's bring in a real estate dataset again to see if we can find an expected correlation: the association between a property's square feet (size) and its list price (the price they initially try to sell it for):"
      ]
    },
    {
      "cell_type": "code",
      "metadata": {
        "id": "kSC6k6o-shxJ",
        "colab_type": "code",
        "colab": {}
      },
      "source": [
        "RE_data = pd.read_csv(\"/content/sample_data/Germantown Sales.csv\")"
      ],
      "execution_count": null,
      "outputs": []
    },
    {
      "cell_type": "code",
      "metadata": {
        "id": "a7EtDLW1wN3i",
        "colab_type": "code",
        "colab": {
          "base_uri": "https://localhost:8080/",
          "height": 629
        },
        "outputId": "147d8609-9a60-4367-b3aa-95b2f9fcff67"
      },
      "source": [
        "RE_data.info()"
      ],
      "execution_count": null,
      "outputs": [
        {
          "output_type": "stream",
          "text": [
            "<class 'pandas.core.frame.DataFrame'>\n",
            "RangeIndex: 3114 entries, 0 to 3113\n",
            "Data columns (total 29 columns):\n",
            " #   Column                     Non-Null Count  Dtype  \n",
            "---  ------                     --------------  -----  \n",
            " 0   MLS #                      3114 non-null   int64  \n",
            " 1   Pics                       3114 non-null   object \n",
            " 2   Status                     3114 non-null   object \n",
            " 3   Area                       3114 non-null   object \n",
            " 4   Address                    3114 non-null   object \n",
            " 5   City                       3114 non-null   object \n",
            " 6   Zip                        3114 non-null   object \n",
            " 7   Unit #                     219 non-null    float64\n",
            " 8   ListPrice                  3114 non-null   object \n",
            " 9   SalePrice                  3114 non-null   object \n",
            " 10  List Agent - Agent Name    3114 non-null   object \n",
            " 11  List Office - Office Code  3114 non-null   object \n",
            " 12  Sold Square Feet           3114 non-null   int64  \n",
            " 13  Sale Price Per SqFt        3107 non-null   float64\n",
            " 14  List Price Per SqFt        1810 non-null   float64\n",
            " 15  Bedrooms                   3114 non-null   int64  \n",
            " 16  TotalBaths                 3114 non-null   float64\n",
            " 17  # of Stories               3114 non-null   float64\n",
            " 18  Parking Display            3114 non-null   object \n",
            " 19  DOM                        3114 non-null   int64  \n",
            " 20  MLS Map #                  3114 non-null   object \n",
            " 21  MAARSubDiv                 3114 non-null   object \n",
            " 22  Listing Date               3114 non-null   object \n",
            " 23  Acreage                    2955 non-null   float64\n",
            " 24  Carport/Garage             2695 non-null   object \n",
            " 25  Pool Description           3114 non-null   object \n",
            " 26  Condo                      3114 non-null   object \n",
            " 27  Condominium Name           201 non-null    object \n",
            " 28  Allow Internet Display     3114 non-null   object \n",
            "dtypes: float64(6), int64(4), object(19)\n",
            "memory usage: 705.6+ KB\n"
          ],
          "name": "stdout"
        }
      ]
    },
    {
      "cell_type": "markdown",
      "metadata": {
        "id": "5iOqcyyBweMh",
        "colab_type": "text"
      },
      "source": [
        "The two variables we're interested in are *ListPrice* and *Sold Square Feet*.  Both have 3114 values so no NA's.  But ListPrice isn't treated as a float... Let's check it out."
      ]
    },
    {
      "cell_type": "code",
      "metadata": {
        "id": "90vLS30pwWUS",
        "colab_type": "code",
        "colab": {
          "base_uri": "https://localhost:8080/",
          "height": 102
        },
        "outputId": "390ebd86-261a-4e4a-82ae-6abeb5347416"
      },
      "source": [
        "RE_data['ListPrice'].describe()"
      ],
      "execution_count": null,
      "outputs": [
        {
          "output_type": "execute_result",
          "data": {
            "text/plain": [
              "count         3114\n",
              "unique         764\n",
              "top       $299,900\n",
              "freq            56\n",
              "Name: ListPrice, dtype: object"
            ]
          },
          "metadata": {
            "tags": []
          },
          "execution_count": 61
        }
      ]
    },
    {
      "cell_type": "code",
      "metadata": {
        "id": "yI4pUp1Fw8CB",
        "colab_type": "code",
        "colab": {
          "base_uri": "https://localhost:8080/",
          "height": 221
        },
        "outputId": "91ce16d9-ec4f-4a07-9e0a-ce7d6bc6a581"
      },
      "source": [
        "RE_data['ListPrice']"
      ],
      "execution_count": null,
      "outputs": [
        {
          "output_type": "execute_result",
          "data": {
            "text/plain": [
              "0          $66,900\n",
              "1         $114,900\n",
              "2          $82,600\n",
              "3          $82,013\n",
              "4         $109,900\n",
              "           ...    \n",
              "3109    $1,495,000\n",
              "3110    $1,295,000\n",
              "3111    $1,649,000\n",
              "3112    $2,050,000\n",
              "3113    $2,195,000\n",
              "Name: ListPrice, Length: 3114, dtype: object"
            ]
          },
          "metadata": {
            "tags": []
          },
          "execution_count": 62
        }
      ]
    },
    {
      "cell_type": "markdown",
      "metadata": {
        "id": "0N2YqJIVxGCJ",
        "colab_type": "text"
      },
      "source": [
        "OK we can see that the $ and commas are probably messing with the conversion.  Can we convert automatically to float?"
      ]
    },
    {
      "cell_type": "code",
      "metadata": {
        "id": "5ab6eFZ4xA_A",
        "colab_type": "code",
        "colab": {
          "base_uri": "https://localhost:8080/",
          "height": 164
        },
        "outputId": "202cc2f6-fe0e-4c78-a9f8-1888db6f92b8"
      },
      "source": [
        "float_test = float(RE_data['ListPrice'][1])"
      ],
      "execution_count": null,
      "outputs": [
        {
          "output_type": "error",
          "ename": "ValueError",
          "evalue": "ignored",
          "traceback": [
            "\u001b[0;31m---------------------------------------------------------------------------\u001b[0m",
            "\u001b[0;31mValueError\u001b[0m                                Traceback (most recent call last)",
            "\u001b[0;32m<ipython-input-64-ca15e1762b8d>\u001b[0m in \u001b[0;36m<module>\u001b[0;34m()\u001b[0m\n\u001b[0;32m----> 1\u001b[0;31m \u001b[0mfloat_test\u001b[0m \u001b[0;34m=\u001b[0m \u001b[0mfloat\u001b[0m\u001b[0;34m(\u001b[0m\u001b[0mRE_data\u001b[0m\u001b[0;34m[\u001b[0m\u001b[0;34m'ListPrice'\u001b[0m\u001b[0;34m]\u001b[0m\u001b[0;34m[\u001b[0m\u001b[0;36m1\u001b[0m\u001b[0;34m]\u001b[0m\u001b[0;34m)\u001b[0m\u001b[0;34m\u001b[0m\u001b[0;34m\u001b[0m\u001b[0m\n\u001b[0m",
            "\u001b[0;31mValueError\u001b[0m: could not convert string to float: '$114,900'"
          ]
        }
      ]
    },
    {
      "cell_type": "markdown",
      "metadata": {
        "id": "tKJYFLkpxah6",
        "colab_type": "text"
      },
      "source": [
        "Ok so just trying a test value from the list we see that we can't convert directly."
      ]
    },
    {
      "cell_type": "code",
      "metadata": {
        "id": "Rx-sDz-ZxTuf",
        "colab_type": "code",
        "colab": {}
      },
      "source": [
        "RE_data['ListPrice'] = RE_data['ListPrice'].str.replace('$','')"
      ],
      "execution_count": null,
      "outputs": []
    },
    {
      "cell_type": "code",
      "metadata": {
        "id": "x4D_aNXtxo1Z",
        "colab_type": "code",
        "colab": {
          "base_uri": "https://localhost:8080/",
          "height": 221
        },
        "outputId": "25ff5c41-8e78-4d72-c9ed-74b42f4b52d7"
      },
      "source": [
        "RE_data['ListPrice']"
      ],
      "execution_count": null,
      "outputs": [
        {
          "output_type": "execute_result",
          "data": {
            "text/plain": [
              "0          66,900\n",
              "1         114,900\n",
              "2          82,600\n",
              "3          82,013\n",
              "4         109,900\n",
              "          ...    \n",
              "3109    1,495,000\n",
              "3110    1,295,000\n",
              "3111    1,649,000\n",
              "3112    2,050,000\n",
              "3113    2,195,000\n",
              "Name: ListPrice, Length: 3114, dtype: object"
            ]
          },
          "metadata": {
            "tags": []
          },
          "execution_count": 66
        }
      ]
    },
    {
      "cell_type": "code",
      "metadata": {
        "id": "2L3lOgBSxrR9",
        "colab_type": "code",
        "colab": {}
      },
      "source": [
        "RE_data['ListPrice'] = RE_data['ListPrice'].str.replace(',','')"
      ],
      "execution_count": null,
      "outputs": []
    },
    {
      "cell_type": "code",
      "metadata": {
        "id": "dbi3kLyrxuUm",
        "colab_type": "code",
        "colab": {
          "base_uri": "https://localhost:8080/",
          "height": 221
        },
        "outputId": "7b681682-4be5-4ce2-ac96-479e42fa18a6"
      },
      "source": [
        "RE_data['ListPrice']"
      ],
      "execution_count": null,
      "outputs": [
        {
          "output_type": "execute_result",
          "data": {
            "text/plain": [
              "0         66900\n",
              "1        114900\n",
              "2         82600\n",
              "3         82013\n",
              "4        109900\n",
              "         ...   \n",
              "3109    1495000\n",
              "3110    1295000\n",
              "3111    1649000\n",
              "3112    2050000\n",
              "3113    2195000\n",
              "Name: ListPrice, Length: 3114, dtype: object"
            ]
          },
          "metadata": {
            "tags": []
          },
          "execution_count": 68
        }
      ]
    },
    {
      "cell_type": "code",
      "metadata": {
        "id": "m1WYPtt0xxPQ",
        "colab_type": "code",
        "colab": {}
      },
      "source": [
        "RE_data['ListPrice'] = RE_data['ListPrice'].astype(float)"
      ],
      "execution_count": null,
      "outputs": []
    },
    {
      "cell_type": "code",
      "metadata": {
        "id": "AA4Q8LRIyAvr",
        "colab_type": "code",
        "colab": {
          "base_uri": "https://localhost:8080/",
          "height": 629
        },
        "outputId": "be8ab5c4-4e20-487f-e22a-25f917a3544f"
      },
      "source": [
        "RE_data.info()"
      ],
      "execution_count": null,
      "outputs": [
        {
          "output_type": "stream",
          "text": [
            "<class 'pandas.core.frame.DataFrame'>\n",
            "RangeIndex: 3114 entries, 0 to 3113\n",
            "Data columns (total 29 columns):\n",
            " #   Column                     Non-Null Count  Dtype  \n",
            "---  ------                     --------------  -----  \n",
            " 0   MLS #                      3114 non-null   int64  \n",
            " 1   Pics                       3114 non-null   object \n",
            " 2   Status                     3114 non-null   object \n",
            " 3   Area                       3114 non-null   object \n",
            " 4   Address                    3114 non-null   object \n",
            " 5   City                       3114 non-null   object \n",
            " 6   Zip                        3114 non-null   object \n",
            " 7   Unit #                     219 non-null    float64\n",
            " 8   ListPrice                  3114 non-null   float64\n",
            " 9   SalePrice                  3114 non-null   object \n",
            " 10  List Agent - Agent Name    3114 non-null   object \n",
            " 11  List Office - Office Code  3114 non-null   object \n",
            " 12  Sold Square Feet           3114 non-null   int64  \n",
            " 13  Sale Price Per SqFt        3107 non-null   float64\n",
            " 14  List Price Per SqFt        1810 non-null   float64\n",
            " 15  Bedrooms                   3114 non-null   int64  \n",
            " 16  TotalBaths                 3114 non-null   float64\n",
            " 17  # of Stories               3114 non-null   float64\n",
            " 18  Parking Display            3114 non-null   object \n",
            " 19  DOM                        3114 non-null   int64  \n",
            " 20  MLS Map #                  3114 non-null   object \n",
            " 21  MAARSubDiv                 3114 non-null   object \n",
            " 22  Listing Date               3114 non-null   object \n",
            " 23  Acreage                    2955 non-null   float64\n",
            " 24  Carport/Garage             2695 non-null   object \n",
            " 25  Pool Description           3114 non-null   object \n",
            " 26  Condo                      3114 non-null   object \n",
            " 27  Condominium Name           201 non-null    object \n",
            " 28  Allow Internet Display     3114 non-null   object \n",
            "dtypes: float64(7), int64(4), object(18)\n",
            "memory usage: 705.6+ KB\n"
          ],
          "name": "stdout"
        }
      ]
    },
    {
      "cell_type": "code",
      "metadata": {
        "id": "SWk-DuEqyLUt",
        "colab_type": "code",
        "colab": {}
      },
      "source": [
        "#ok ready to go!"
      ],
      "execution_count": null,
      "outputs": []
    },
    {
      "cell_type": "code",
      "metadata": {
        "id": "O6CZNJkRzcW9",
        "colab_type": "code",
        "colab": {
          "base_uri": "https://localhost:8080/",
          "height": 454
        },
        "outputId": "9a18e6fe-a6d1-4fc6-d3ba-3d9dfb8db9c2"
      },
      "source": [
        "sns.jointplot(x=\"Sold Square Feet\", y=\"ListPrice\", data=RE_data, kind=\"reg\")"
      ],
      "execution_count": null,
      "outputs": [
        {
          "output_type": "execute_result",
          "data": {
            "text/plain": [
              "<seaborn.axisgrid.JointGrid at 0x7ff0c113c3c8>"
            ]
          },
          "metadata": {
            "tags": []
          },
          "execution_count": 74
        },
        {
          "output_type": "display_data",
          "data": {
            "image/png": "[encoded data removed]",
            "text/plain": [
              "<Figure size 432x432 with 3 Axes>"
            ]
          },
          "metadata": {
            "tags": []
          }
        }
      ]
    },
    {
      "cell_type": "code",
      "metadata": {
        "id": "cBqlY0m8zlEL",
        "colab_type": "code",
        "colab": {}
      },
      "source": [
        "#MUUUUUCH better! We see that we have some outliers though (maybe for this example\n",
        "# we can ignore them?)  And we have strange values for ListPrice (weird scale)..."
      ],
      "execution_count": null,
      "outputs": []
    },
    {
      "cell_type": "code",
      "metadata": {
        "id": "XSYQf-mNz8o5",
        "colab_type": "code",
        "colab": {
          "base_uri": "https://localhost:8080/",
          "height": 170
        },
        "outputId": "9e869e73-ad9a-4c4a-bd87-bfe1efc07792"
      },
      "source": [
        "RE_data['ListPrice'].describe()"
      ],
      "execution_count": null,
      "outputs": [
        {
          "output_type": "execute_result",
          "data": {
            "text/plain": [
              "count    3.114000e+03\n",
              "mean     3.382346e+05\n",
              "std      1.431119e+05\n",
              "min      6.690000e+04\n",
              "25%      2.590000e+05\n",
              "50%      3.197000e+05\n",
              "75%      3.899000e+05\n",
              "max      2.195000e+06\n",
              "Name: ListPrice, dtype: float64"
            ]
          },
          "metadata": {
            "tags": []
          },
          "execution_count": 77
        }
      ]
    },
    {
      "cell_type": "code",
      "metadata": {
        "id": "casgbBA90Iqr",
        "colab_type": "code",
        "colab": {}
      },
      "source": [
        "# Ok I guess it was just writing it in scientific notation"
      ],
      "execution_count": null,
      "outputs": []
    },
    {
      "cell_type": "code",
      "metadata": {
        "id": "bDstsgN3zIug",
        "colab_type": "code",
        "colab": {}
      },
      "source": [
        "x1 = RE_data['Sold Square Feet']\n",
        "y1 = RE_data['ListPrice']"
      ],
      "execution_count": null,
      "outputs": []
    },
    {
      "cell_type": "code",
      "metadata": {
        "id": "crehpms4zUAb",
        "colab_type": "code",
        "colab": {
          "base_uri": "https://localhost:8080/",
          "height": 476
        },
        "outputId": "8dfff603-b9d7-492d-bde6-b4325803ad05"
      },
      "source": [
        "x1 = sm.add_constant(x1)\n",
        "RE_model = sm.OLS(y1, x1)\n",
        "results1 = RE_model.fit()\n",
        "print(results1.summary())"
      ],
      "execution_count": null,
      "outputs": [
        {
          "output_type": "stream",
          "text": [
            "                            OLS Regression Results                            \n",
            "==============================================================================\n",
            "Dep. Variable:              ListPrice   R-squared:                       0.615\n",
            "Model:                            OLS   Adj. R-squared:                  0.615\n",
            "Method:                 Least Squares   F-statistic:                     4976.\n",
            "Date:                Sat, 08 Aug 2020   Prob (F-statistic):               0.00\n",
            "Time:                        16:06:52   Log-Likelihood:                -39899.\n",
            "No. Observations:                3114   AIC:                         7.980e+04\n",
            "Df Residuals:                    3112   BIC:                         7.981e+04\n",
            "Df Model:                           1                                         \n",
            "Covariance Type:            nonrobust                                         \n",
            "====================================================================================\n",
            "                       coef    std err          t      P>|t|      [0.025      0.975]\n",
            "------------------------------------------------------------------------------------\n",
            "const            -2.852e+04   5437.436     -5.245      0.000   -3.92e+04   -1.79e+04\n",
            "Sold Square Feet   112.8248      1.600     70.537      0.000     109.689     115.961\n",
            "==============================================================================\n",
            "Omnibus:                     2674.241   Durbin-Watson:                   0.931\n",
            "Prob(Omnibus):                  0.000   Jarque-Bera (JB):           227249.402\n",
            "Skew:                           3.609   Prob(JB):                         0.00\n",
            "Kurtosis:                      44.223   Cond. No.                     1.16e+04\n",
            "==============================================================================\n",
            "\n",
            "Warnings:\n",
            "[1] Standard Errors assume that the covariance matrix of the errors is correctly specified.\n",
            "[2] The condition number is large, 1.16e+04. This might indicate that there are\n",
            "strong multicollinearity or other numerical problems.\n"
          ],
          "name": "stdout"
        }
      ]
    },
    {
      "cell_type": "markdown",
      "metadata": {
        "id": "8hY1THQk2fUJ",
        "colab_type": "text"
      },
      "source": [
        "The coefficient is 112, meaning for every sqft of the property, the price will be $112.82 higher.  \n",
        "\n",
        "However the R-squared in the model is only 0.615 so there's still room for improvement."
      ]
    },
    {
      "cell_type": "markdown",
      "metadata": {
        "id": "sf1mvNO28fKo",
        "colab_type": "text"
      },
      "source": [
        "# **Generalized Linear Regression**\n",
        "\n",
        "https://www.statsmodels.org/devel/examples/notebooks/generated/glm.html"
      ]
    },
    {
      "cell_type": "markdown",
      "metadata": {
        "id": "JAyjDcfQ7BLN",
        "colab_type": "text"
      },
      "source": [
        "# **Nonlinear Regression Models**"
      ]
    },
    {
      "cell_type": "markdown",
      "metadata": {
        "id": "aqimzguH7HZu",
        "colab_type": "text"
      },
      "source": [
        "## **Polynomial Regression**\n",
        "https://www.w3schools.com/python/python_ml_polynomial_regression.asp"
      ]
    },
    {
      "cell_type": "markdown",
      "metadata": {
        "id": "b8RkfBpd6OAE",
        "colab_type": "text"
      },
      "source": [
        "##**Decision Tree Regressor**\n",
        "\n",
        "https://saedsayad.com/decision_tree_reg.htm\n",
        "\n",
        "https://www.pluralsight.com/guides/non-linear-regression-trees-scikit-learn\n",
        "\n",
        "\n",
        "https://explained.ai/decision-tree-viz/\n"
      ]
    },
    {
      "cell_type": "code",
      "metadata": {
        "id": "RsHecqjEEb7C",
        "colab_type": "code",
        "colab": {}
      },
      "source": [
        ""
      ],
      "execution_count": null,
      "outputs": []
    }
  ]
}